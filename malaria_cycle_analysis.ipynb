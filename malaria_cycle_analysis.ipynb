{
 "cells": [
  {
   "cell_type": "markdown",
   "id": "3443b545",
   "metadata": {},
   "source": [
    "# Imports & Data"
   ]
  },
  {
   "cell_type": "code",
   "execution_count": 1,
   "id": "749e652d",
   "metadata": {
    "ExecuteTime": {
     "end_time": "2021-10-08T04:01:20.977940Z",
     "start_time": "2021-10-08T04:01:16.038216Z"
    }
   },
   "outputs": [],
   "source": [
    "import os\n",
    "\n",
    "from datetime import datetime\n",
    "from pathlib import Path\n",
    "\n",
    "from tkinter import *\n",
    "from tkinter.ttk import *\n",
    "from tkinter import filedialog as fd\n",
    "from tkinter import messagebox \n",
    "from tkinter.filedialog import askdirectory, askopenfile, askopenfilename\n",
    "\n",
    "import pandas as pd\n",
    "import numpy as np\n",
    "\n",
    "import matplotlib.pyplot as plt\n",
    "import matplotlib.ticker as ticker\n",
    "import seaborn as sns\n",
    "\n",
    "import math"
   ]
  },
  {
   "cell_type": "code",
   "execution_count": 49,
   "id": "146e877e",
   "metadata": {
    "ExecuteTime": {
     "end_time": "2021-10-08T19:01:57.767303Z",
     "start_time": "2021-10-08T19:01:57.755763Z"
    }
   },
   "outputs": [],
   "source": [
    "def getFilename():\n",
    "    filename = fd.askopenfilename()\n",
    "    return Path(filename)"
   ]
  },
  {
   "cell_type": "code",
   "execution_count": 108,
   "id": "c33aa068",
   "metadata": {
    "ExecuteTime": {
     "end_time": "2021-10-11T19:37:17.896213Z",
     "start_time": "2021-10-11T19:37:17.885243Z"
    }
   },
   "outputs": [],
   "source": [
    "def single_path_split(filename):\n",
    "    site = str(files[n]).split(\"\\\\\", 7)\n",
    "    site = site[7].split(\" \")[0]\n",
    "    correlate = str(files[n]).split(\"\\\\\", 9)\n",
    "    correlate = correlate[8]\n",
    "    title = str(files[n]).split(\"Data\\\\\", 1)\n",
    "    title = title[1]\n",
    "    title = title[:-4]\n",
    "    title_split = title.split('_')\n",
    "    reader_num = title_split[1]\n",
    "    u_num = title_split[2]\n",
    "    date = title_split[3]\n",
    "    date = datetime.strptime(date, \"%d%m%Y\")\n",
    "    date = date.strftime(\"%d-%m-%y\")\n",
    "\n",
    "    return title, site, correlate, reader_num, u_num, date"
   ]
  },
  {
   "cell_type": "code",
   "execution_count": 63,
   "id": "f2a82f4b",
   "metadata": {
    "ExecuteTime": {
     "end_time": "2021-10-08T19:16:35.664681Z",
     "start_time": "2021-10-08T19:16:35.650149Z"
    }
   },
   "outputs": [],
   "source": [
    "def getPath():\n",
    "    root = Tk()\n",
    "    root.withdraw()\n",
    "    InputPath = askdirectory(title=\"Choose Directory\")\n",
    "    root.destroy()\n",
    "    p = Path(InputPath)\n",
    "    \n",
    "    files = []\n",
    "\n",
    "    for item in p.glob('**/*'):\n",
    "        if item.suffix in ['.txt']:\n",
    "            name = item.name\n",
    "            dname = name\n",
    "            dname = dname[:-8]\n",
    "            files.append(str(p) + \"\\\\\" + str(dname) + \"\\\\\" + \"Data\" + \"\\\\\" + str(name))\n",
    "            \n",
    "    return files"
   ]
  },
  {
   "cell_type": "code",
   "execution_count": 64,
   "id": "b4d62cc1",
   "metadata": {
    "ExecuteTime": {
     "end_time": "2021-10-08T19:16:39.076727Z",
     "start_time": "2021-10-08T19:16:36.666968Z"
    }
   },
   "outputs": [],
   "source": [
    "files = getPath()"
   ]
  },
  {
   "cell_type": "code",
   "execution_count": 107,
   "id": "f1add23c",
   "metadata": {
    "ExecuteTime": {
     "end_time": "2021-10-11T19:33:38.459206Z",
     "start_time": "2021-10-11T19:33:38.444246Z"
    }
   },
   "outputs": [],
   "source": [
    "def multi_path_split(files):\n",
    "    plot_titles = []\n",
    "    reader = []\n",
    "    u_number = []\n",
    "    date_list = []\n",
    "    site_list = []\n",
    "    correlate_list = []\n",
    "    \n",
    "    for n in range(0, len(files), 2):\n",
    "        site = str(files[n]).split(\"\\\\\", 7)\n",
    "        site = site[7].split(\" \")[0]\n",
    "        correlate = str(files[n]).split(\"\\\\\", 9)\n",
    "        correlate = correlate[8]\n",
    "        title = str(files[n]).split(\"Data\\\\\", 1)\n",
    "        title = title[1]\n",
    "        title = title[:-4]\n",
    "        title_split = title.split('_')\n",
    "        reader_num = title_split[1]\n",
    "        u_num = title_split[2]\n",
    "        date = title_split[3]\n",
    "        date = datetime.strptime(date, \"%d%m%Y\")\n",
    "        date = date.strftime(\"%d-%m-%y\")\n",
    "        plot_titles.append(title)\n",
    "        reader.append(reader_num)\n",
    "        u_number.append(u_num)\n",
    "        date_list.append(date)\n",
    "        site_list.append(site)\n",
    "        correlate_list.append(correlate)\n",
    "        \n",
    "    path_df = pd.DataFrame(\n",
    "        {\"reader\": reader,\n",
    "         \"u number\": u_number,\n",
    "         \"date\": date_list,\n",
    "         \"site\": site_list,\n",
    "         \"correlate\": correlate_list   \n",
    "        }) \n",
    "    \n",
    "    return plot_titles, site, date, correlate_list, reader, u_number"
   ]
  },
  {
   "cell_type": "code",
   "execution_count": 106,
   "id": "10a63df2",
   "metadata": {
    "ExecuteTime": {
     "end_time": "2021-10-11T19:09:41.602479Z",
     "start_time": "2021-10-11T19:09:41.566534Z"
    }
   },
   "outputs": [
    {
     "data": {
      "text/plain": [
       "(['MOD_GZ0010719HMX_U1000_22022021_130215_Raw',\n",
       "  'MOD_GZ0010719HMX_U1001_27052020_123000_Raw',\n",
       "  'MOD_GZ0010719HMX_U1005_23022021_122712_Raw',\n",
       "  'MOD_GZ0010719HMX_U1006_23022021_123120_Raw',\n",
       "  'MOD_GZ0010719HMX_U1007_23022021_123557_Raw',\n",
       "  'MOD_GZ0010719HMX_U1008_23022021_123947_Raw',\n",
       "  'MOD_GZ0010719HMX_U1009_23022021_124323_Raw',\n",
       "  'MOD_GZ0010719HMX_U1010_23022021_124654_Raw',\n",
       "  'MOD_GZ0010719HMX_U1011_23022021_125207_Raw',\n",
       "  'MOD_GZ0010719HMX_U1014_29052020_100122_Raw',\n",
       "  'MOD_GZ0010719HMX_U1020_30052020_113201_Raw',\n",
       "  'MOD_GZ0010719HMX_U1021_30052020_113509_Raw',\n",
       "  'MOD_GZ0010719HMX_U1041_04062020_123320_Raw',\n",
       "  'MOD_GZ0010719HMX_U1046_05062020_122737_Raw',\n",
       "  'MOD_GZ0010719HMX_U1049_03032021_122457_Raw',\n",
       "  'MOD_GZ0010719HMX_U1050_03032021_122843_Raw',\n",
       "  'MOD_GZ0010719HMX_U1051_03032021_123346_Raw',\n",
       "  'MOD_GZ0010719HMX_U1052_03032021_125102_Raw',\n",
       "  'MOD_GZ0010719HMX_U1059_08062020_131515_Raw',\n",
       "  'MOD_GZ0010719HMX_U1060_08062020_131821_Raw',\n",
       "  'MOD_GZ0010719HMX_U1071_09032021_103003_Raw',\n",
       "  'MOD_GZ0010719HMX_U1071_10062020_121040_Raw',\n",
       "  'MOD_GZ0010719HMX_U1072_09032021_103335_Raw',\n",
       "  'MOD_GZ0010719HMX_U1073_09032021_103935_Raw',\n",
       "  'MOD_GZ0010719HMX_U1075_09032021_104643_Raw',\n",
       "  'MOD_GZ0010719HMX_U1076_10062020_122808_Raw',\n",
       "  'MOD_GZ0010719HMX_U1077_09032021_115010_Raw',\n",
       "  'MOD_GZ0010719HMX_U1078_09032021_115714_Raw',\n",
       "  'MOD_GZ0010719HMX_U1079_09032021_121230_Raw',\n",
       "  'MOD_GZ0010719HMX_U1080_09032021_121731_Raw',\n",
       "  'MOD_GZ0010719HMX_U1087_10032021_121438_Raw',\n",
       "  'MOD_GZ0010719HMX_U1088_10032021_121818_Raw',\n",
       "  'MOD_GZ0010719HMX_U1089_10032021_122208_Raw',\n",
       "  'MOD_GZ0010719HMX_U1090_10032021_122557_Raw',\n",
       "  'MOD_GZ0010719HMX_U1092_10032021_123440_Raw',\n",
       "  'MOD_GZ0010719HMX_U1100_12032021_125451_Raw',\n",
       "  'MOD_GZ0010719HMX_U1102_12032021_130221_Raw',\n",
       "  'MOD_GZ0010719HMX_U1119_15032021_124811_Raw',\n",
       "  'MOD_GZ0010719HMX_U1120_15032021_125147_Raw',\n",
       "  'MOD_GZ0010719HMX_U1121_15032021_125846_Raw',\n",
       "  'MOD_GZ0010719HMX_U148_30012020_115243_Raw',\n",
       "  'MOD_GZ0010719HMX_U152_30012020_161052_Raw',\n",
       "  'MOD_GZ0010719HMX_U158_31012020_114748_Raw',\n",
       "  'MOD_GZ0010719HMX_U175_04022020_105716_Raw',\n",
       "  'MOD_GZ0010719HMX_U181_04022020_112345_Raw',\n",
       "  'MOD_GZ0010719HMX_U183_04022020_154153_Raw',\n",
       "  'MOD_GZ0010719HMX_U204_06022020_130959_Raw',\n",
       "  'MOD_GZ0010719HMX_U211_07022020_120438_Raw',\n",
       "  'MOD_GZ0010719HMX_U241_10022020_134358_Raw',\n",
       "  'MOD_GZ0010719HMX_U242_10022020_155458_Raw',\n",
       "  'MOD_GZ0010719HMX_U257_12022020_101551_Raw',\n",
       "  'MOD_GZ0010719HMX_U283_14022020_123841_Raw',\n",
       "  'MOD_GZ0010719HMX_U284_14022020_135317_Raw',\n",
       "  'MOD_GZ0010719HMX_U285_14022020_154123_Raw',\n",
       "  'MOD_GZ0010719HMX_U301_17022020_152641_Raw',\n",
       "  'MOD_GZ0010719HMX_U302_17022020_153008_Raw',\n",
       "  'MOD_GZ0010719HMX_U314_18022020_125930_Raw',\n",
       "  'MOD_GZ0010719HMX_U318_18022020_132628_Raw',\n",
       "  'MOD_GZ0010719HMX_U319_18022020_154302_Raw',\n",
       "  'MOD_GZ0010719HMX_U323_19022020_102247_Raw',\n",
       "  'MOD_GZ0010719HMX_U324_19022020_132925_Raw',\n",
       "  'MOD_GZ0010719HMX_U329_19022020_134611_Raw',\n",
       "  'MOD_GZ0010719HMX_U332_19022020_154745_Raw',\n",
       "  'MOD_GZ0010719HMX_U339_20022020_125401_Raw',\n",
       "  'MOD_GZ0010719HMX_U344_20022020_131009_Raw',\n",
       "  'MOD_GZ0010719HMX_U345_20022020_131313_Raw',\n",
       "  'MOD_GZ0010719HMX_U350_20022020_132802_Raw',\n",
       "  'MOD_GZ0010719HMX_U351_20022020_163653_Raw',\n",
       "  'MOD_GZ0010719HMX_U371_24022020_142350_Raw',\n",
       "  'MOD_GZ0010719HMX_U374_24022020_143820_Raw',\n",
       "  'MOD_GZ0010719HMX_U379_24022020_145547_Raw',\n",
       "  'MOD_GZ0010719HMX_U385_25022020_122449_Raw',\n",
       "  'MOD_GZ0010719HMX_U408_27022020_132604_Raw',\n",
       "  'MOD_GZ0010719HMX_U409_27022020_132927_Raw',\n",
       "  'MOD_GZ0010719HMX_U410_27022020_133230_Raw',\n",
       "  'MOD_GZ0010719HMX_U411_27022020_133541_Raw',\n",
       "  'MOD_GZ0010719HMX_U413_27022020_163306_Raw',\n",
       "  'MOD_GZ0010719HMX_U420_28022020_132400_Raw',\n",
       "  'MOD_GZ0010719HMX_U421_28022020_132712_Raw',\n",
       "  'MOD_GZ0010719HMX_U422_28022020_150907_Raw',\n",
       "  'MOD_GZ0010719HMX_U423_28022020_155011_Raw',\n",
       "  'MOD_GZ0010719HMX_U424_28022020_155328_Raw',\n",
       "  'MOD_GZ0010719HMX_U431_29022020_133434_Raw',\n",
       "  'MOD_GZ0010719HMX_U44_19062020_095700_Raw',\n",
       "  'MOD_GZ0010719HMX_U464_05032020_095310_Raw',\n",
       "  'MOD_GZ0010719HMX_U473_06032020_101721_Raw',\n",
       "  'MOD_GZ0010719HMX_U478_06032020_131339_Raw',\n",
       "  'MOD_GZ0010719HMX_U47_21012020_123406_Raw',\n",
       "  'MOD_GZ0010719HMX_U500_11032020_094722_Raw',\n",
       "  'MOD_GZ0010719HMX_U513_12032020_140446_Raw',\n",
       "  'MOD_GZ0010719HMX_U514_12032020_140751_Raw',\n",
       "  'MOD_GZ0010719HMX_U515_12032020_164800_Raw',\n",
       "  'MOD_GZ0010719HMX_U51_20062020_132159_Raw',\n",
       "  'MOD_GZ0010719HMX_U527_13032020_130415_Raw',\n",
       "  'MOD_GZ0010719HMX_U52_20062020_132430_Raw',\n",
       "  'MOD_GZ0010719HMX_U550_16032020_135501_Raw',\n",
       "  'MOD_GZ0010719HMX_U554_16032020_161111_Raw',\n",
       "  'MOD_GZ0010719HMX_U555_16032020_162845_Raw',\n",
       "  'MOD_GZ0010719HMX_U563_17032020_114841_Raw',\n",
       "  'MOD_GZ0010719HMX_U565_17032020_115513_Raw',\n",
       "  'MOD_GZ0010719HMX_U567_17032020_132306_Raw',\n",
       "  'MOD_GZ0010719HMX_U586_21032020_095316_Raw',\n",
       "  'MOD_GZ0010719HMX_U603_24032020_095315_Raw',\n",
       "  'MOD_GZ0010719HMX_U604_24032020_125021_Raw',\n",
       "  'MOD_GZ0010719HMX_U634_21122020_132641_Raw',\n",
       "  'MOD_GZ0010719HMX_U634_28032020_124125_Raw',\n",
       "  'MOD_GZ0010719HMX_U639_22122020_134054_Raw',\n",
       "  'MOD_GZ0010719HMX_U649_31032020_120804_Raw',\n",
       "  'MOD_GZ0010719HMX_U651_24122020_123853_Raw',\n",
       "  'MOD_GZ0010719HMX_U652_24122020_124757_Raw',\n",
       "  'MOD_GZ0010719HMX_U653_24122020_131448_Raw',\n",
       "  'MOD_GZ0010719HMX_U654_24122020_131912_Raw',\n",
       "  'MOD_GZ0010719HMX_U655_01042020_130857_Raw',\n",
       "  'MOD_GZ0010719HMX_U655_24122020_132306_Raw',\n",
       "  'MOD_GZ0010719HMX_U656_01042020_131202_Raw',\n",
       "  'MOD_GZ0010719HMX_U656_24122020_133623_Raw',\n",
       "  'MOD_GZ0010719HMX_U661_26122020_120317_Raw',\n",
       "  'MOD_GZ0010719HMX_U662_02042020_123700_Raw',\n",
       "  'MOD_GZ0010719HMX_U662_26122020_120827_Raw',\n",
       "  'MOD_GZ0010719HMX_U663_26122020_121652_Raw',\n",
       "  'MOD_GZ0010719HMX_U678_06042020_101636_Raw',\n",
       "  'MOD_GZ0010719HMX_U67_22012020_131852_Raw',\n",
       "  'MOD_GZ0010719HMX_U687_31122020_121903_Raw',\n",
       "  'MOD_GZ0010719HMX_U688_31122020_122347_Raw',\n",
       "  'MOD_GZ0010719HMX_U690_31122020_123637_Raw',\n",
       "  'MOD_GZ0010719HMX_U691_31122020_124244_Raw',\n",
       "  'MOD_GZ0010719HMX_U697_01012021_124300_Raw',\n",
       "  'MOD_GZ0010719HMX_U698_01012021_130853_Raw',\n",
       "  'MOD_GZ0010719HMX_U699_01012021_131932_Raw',\n",
       "  'MOD_GZ0010719HMX_U700_01012021_132454_Raw',\n",
       "  'MOD_GZ0010719HMX_U701_01012021_132840_Raw',\n",
       "  'MOD_GZ0010719HMX_U702_01012021_133312_Raw',\n",
       "  'MOD_GZ0010719HMX_U705_09042020_121234_Raw',\n",
       "  'MOD_GZ0010719HMX_U710_04012021_122815_Raw',\n",
       "  'MOD_GZ0010719HMX_U714_05012021_114254_Raw',\n",
       "  'MOD_GZ0010719HMX_U715_05012021_114753_Raw',\n",
       "  'MOD_GZ0010719HMX_U719_06012021_111836_Raw',\n",
       "  'MOD_GZ0010719HMX_U725_07012021_131739_Raw',\n",
       "  'MOD_GZ0010719HMX_U726_07012021_132246_Raw',\n",
       "  'MOD_GZ0010719HMX_U727_07012021_132640_Raw',\n",
       "  'MOD_GZ0010719HMX_U730_14042020_101511_Raw',\n",
       "  'MOD_GZ0010719HMX_U743_11012021_124138_Raw',\n",
       "  'MOD_GZ0010719HMX_U744_11012021_130548_Raw',\n",
       "  'MOD_GZ0010719HMX_U749_12012021_124834_Raw',\n",
       "  'MOD_GZ0010719HMX_U750_12012021_125242_Raw',\n",
       "  'MOD_GZ0010719HMX_U759_14012021_123227_Raw',\n",
       "  'MOD_GZ0010719HMX_U761_14012021_133144_Raw',\n",
       "  'MOD_GZ0010719HMX_U776_20042020_125659_Raw',\n",
       "  'MOD_GZ0010719HMX_U77_23012020_125654_Raw',\n",
       "  'MOD_GZ0010719HMX_U782_21042020_124417_Raw',\n",
       "  'MOD_GZ0010719HMX_U787_20012021_125533_Raw',\n",
       "  'MOD_GZ0010719HMX_U788_20012021_125932_Raw',\n",
       "  'MOD_GZ0010719HMX_U789_20012021_130809_Raw',\n",
       "  'MOD_GZ0010719HMX_U78_23012020_150734_Raw',\n",
       "  'MOD_GZ0010719HMX_U800_24042020_124243_Raw',\n",
       "  'MOD_GZ0010719HMX_U810_22012021_135219_Raw',\n",
       "  'MOD_GZ0010719HMX_U815_28042020_124609_Raw',\n",
       "  'MOD_GZ0010719HMX_U823_25012021_125829_Raw',\n",
       "  'MOD_GZ0010719HMX_U824_25012021_130250_Raw',\n",
       "  'MOD_GZ0010719HMX_U826_25012021_131118_Raw',\n",
       "  'MOD_GZ0010719HMX_U831_25012021_133035_Raw',\n",
       "  'MOD_GZ0010719HMX_U832_25012021_133424_Raw',\n",
       "  'MOD_GZ0010719HMX_U833_25012021_133808_Raw',\n",
       "  'MOD_GZ0010719HMX_U834_25012021_134204_Raw',\n",
       "  'MOD_GZ0010719HMX_U835_25012021_134558_Raw',\n",
       "  'MOD_GZ0010719HMX_U836_25012021_134947_Raw',\n",
       "  'MOD_GZ0010719HMX_U837_25012021_135320_Raw',\n",
       "  'MOD_GZ0010719HMX_U838_25012021_135702_Raw',\n",
       "  'MOD_GZ0010719HMX_U839_25012021_140041_Raw',\n",
       "  'MOD_GZ0010719HMX_U83_24012020_102350_Raw',\n",
       "  'MOD_GZ0010719HMX_U84_24012020_102709_Raw',\n",
       "  'MOD_GZ0010719HMX_U85_24012020_112719_Raw',\n",
       "  'MOD_GZ0010719HMX_U861_04052020_130421_Raw',\n",
       "  'MOD_GZ0010719HMX_U863_29012021_124923_Raw',\n",
       "  'MOD_GZ0010719HMX_U864_29012021_125732_Raw',\n",
       "  'MOD_GZ0010719HMX_U865_29012021_130123_Raw',\n",
       "  'MOD_GZ0010719HMX_U866_29012021_130511_Raw',\n",
       "  'MOD_GZ0010719HMX_U873_30012021_122736_Raw',\n",
       "  'MOD_GZ0010719HMX_U880_01022021_122422_Raw',\n",
       "  'MOD_GZ0010719HMX_U881_01022021_122803_Raw',\n",
       "  'MOD_GZ0010719HMX_U882_01022021_123241_Raw',\n",
       "  'MOD_GZ0010719HMX_U886_01022021_125713_Raw',\n",
       "  'MOD_GZ0010719HMX_U887_01022021_130908_Raw',\n",
       "  'MOD_GZ0010719HMX_U893_08052020_130447_Raw',\n",
       "  'MOD_GZ0010719HMX_U895_02022021_125157_Raw',\n",
       "  'MOD_GZ0010719HMX_U89_24012020_114109_Raw',\n",
       "  'MOD_GZ0010719HMX_U926_09022021_113840_Raw',\n",
       "  'MOD_GZ0010719HMX_U929_15052020_131120_Raw',\n",
       "  'MOD_GZ0010719HMX_U930_15052020_131449_Raw',\n",
       "  'MOD_GZ0010719HMX_U934_16052020_121904_Raw',\n",
       "  'MOD_GZ0010719HMX_U940_12022021_115255_Raw',\n",
       "  'MOD_GZ0010719HMX_U946_18052020_131213_Raw',\n",
       "  'MOD_GZ0010719HMX_U954_15022021_134629_Raw',\n",
       "  'MOD_GZ0010719HMX_U955_15022021_135006_Raw',\n",
       "  'MOD_GZ0010719HMX_U956_15022021_135538_Raw',\n",
       "  'MOD_GZ0010719HMX_U957_15022021_140003_Raw',\n",
       "  'MOD_GZ0010719HMX_U961_20052020_134026_Raw',\n",
       "  'MOD_GZ0010719HMX_U976_18022021_122658_Raw',\n",
       "  'MOD_GZ0010719HMX_U977_18022021_125211_Raw',\n",
       "  'MOD_GZ0010719HMX_U983_23052020_131635_Raw',\n",
       "  'MOD_GZ0010719HMX_U997_22022021_114911_Raw',\n",
       "  'MOD_GZ0010719HMX_U998_22022021_115318_Raw',\n",
       "  'MOD_GZ0010719HMX_U999_22022021_115835_Raw'],\n",
       " 'Jagdalpur',\n",
       " '22-02-21',\n",
       " ['Pf',\n",
       "  'Pf',\n",
       "  'Pf',\n",
       "  'Pf',\n",
       "  'Pf',\n",
       "  'Pf',\n",
       "  'Pf',\n",
       "  'Pf',\n",
       "  'Pf',\n",
       "  'Pf',\n",
       "  'Pf',\n",
       "  'Pf',\n",
       "  'Pf',\n",
       "  'Pf',\n",
       "  'Pf',\n",
       "  'Pf',\n",
       "  'Pf',\n",
       "  'Pf',\n",
       "  'Pf',\n",
       "  'Pf',\n",
       "  'Pf',\n",
       "  'Pf',\n",
       "  'Pf',\n",
       "  'Pf',\n",
       "  'Pf',\n",
       "  'Pf',\n",
       "  'Pf',\n",
       "  'Pf',\n",
       "  'Pf',\n",
       "  'Pf',\n",
       "  'Pf',\n",
       "  'Pf',\n",
       "  'Pf',\n",
       "  'Pf',\n",
       "  'Pf',\n",
       "  'Pf',\n",
       "  'Pf',\n",
       "  'Pf',\n",
       "  'Pf',\n",
       "  'Pf',\n",
       "  'Pf',\n",
       "  'Pf',\n",
       "  'Pf',\n",
       "  'Pf',\n",
       "  'Pf',\n",
       "  'Pf',\n",
       "  'Pf',\n",
       "  'Pf',\n",
       "  'Pf',\n",
       "  'Pf',\n",
       "  'Pf',\n",
       "  'Pf',\n",
       "  'Pf',\n",
       "  'Pf',\n",
       "  'Pf',\n",
       "  'Pf',\n",
       "  'Pf',\n",
       "  'Pf',\n",
       "  'Pf',\n",
       "  'Pf',\n",
       "  'Pf',\n",
       "  'Pf',\n",
       "  'Pf',\n",
       "  'Pf',\n",
       "  'Pf',\n",
       "  'Pf',\n",
       "  'Pf',\n",
       "  'Pf',\n",
       "  'Pf',\n",
       "  'Pf',\n",
       "  'Pf',\n",
       "  'Pf',\n",
       "  'Pf',\n",
       "  'Pf',\n",
       "  'Pf',\n",
       "  'Pf',\n",
       "  'Pf',\n",
       "  'Pf',\n",
       "  'Pf',\n",
       "  'Pf',\n",
       "  'Pf',\n",
       "  'Pf',\n",
       "  'Pf',\n",
       "  'Pf',\n",
       "  'Pf',\n",
       "  'Pf',\n",
       "  'Pf',\n",
       "  'Pf',\n",
       "  'Pf',\n",
       "  'Pf',\n",
       "  'Pf',\n",
       "  'Pf',\n",
       "  'Pf',\n",
       "  'Pf',\n",
       "  'Pf',\n",
       "  'Pf',\n",
       "  'Pf',\n",
       "  'Pf',\n",
       "  'Pf',\n",
       "  'Pf',\n",
       "  'Pf',\n",
       "  'Pf',\n",
       "  'Pf',\n",
       "  'Pf',\n",
       "  'Pf',\n",
       "  'Pf',\n",
       "  'Pf',\n",
       "  'Pf',\n",
       "  'Pf',\n",
       "  'Pf',\n",
       "  'Pf',\n",
       "  'Pf',\n",
       "  'Pf',\n",
       "  'Pf',\n",
       "  'Pf',\n",
       "  'Pf',\n",
       "  'Pf',\n",
       "  'Pf',\n",
       "  'Pf',\n",
       "  'Pf',\n",
       "  'Pf',\n",
       "  'Pf',\n",
       "  'Pf',\n",
       "  'Pf',\n",
       "  'Pf',\n",
       "  'Pf',\n",
       "  'Pf',\n",
       "  'Pf',\n",
       "  'Pf',\n",
       "  'Pf',\n",
       "  'Pf',\n",
       "  'Pf',\n",
       "  'Pf',\n",
       "  'Pf',\n",
       "  'Pf',\n",
       "  'Pf',\n",
       "  'Pf',\n",
       "  'Pf',\n",
       "  'Pf',\n",
       "  'Pf',\n",
       "  'Pf',\n",
       "  'Pf',\n",
       "  'Pf',\n",
       "  'Pf',\n",
       "  'Pf',\n",
       "  'Pf',\n",
       "  'Pf',\n",
       "  'Pf',\n",
       "  'Pf',\n",
       "  'Pf',\n",
       "  'Pf',\n",
       "  'Pf',\n",
       "  'Pf',\n",
       "  'Pf',\n",
       "  'Pf',\n",
       "  'Pf',\n",
       "  'Pf',\n",
       "  'Pf',\n",
       "  'Pf',\n",
       "  'Pf',\n",
       "  'Pf',\n",
       "  'Pf',\n",
       "  'Pf',\n",
       "  'Pf',\n",
       "  'Pf',\n",
       "  'Pf',\n",
       "  'Pf',\n",
       "  'Pf',\n",
       "  'Pf',\n",
       "  'Pf',\n",
       "  'Pf',\n",
       "  'Pf',\n",
       "  'Pf',\n",
       "  'Pf',\n",
       "  'Pf',\n",
       "  'Pf',\n",
       "  'Pf',\n",
       "  'Pf',\n",
       "  'Pf',\n",
       "  'Pf',\n",
       "  'Pf',\n",
       "  'Pf',\n",
       "  'Pf',\n",
       "  'Pf',\n",
       "  'Pf',\n",
       "  'Pf',\n",
       "  'Pf',\n",
       "  'Pf',\n",
       "  'Pf',\n",
       "  'Pf',\n",
       "  'Pf',\n",
       "  'Pf',\n",
       "  'Pf',\n",
       "  'Pf',\n",
       "  'Pf',\n",
       "  'Pf',\n",
       "  'Pf',\n",
       "  'Pf',\n",
       "  'Pf',\n",
       "  'Pf',\n",
       "  'Pf',\n",
       "  'Pf',\n",
       "  'Pf'],\n",
       " ['GZ0010719HMX',\n",
       "  'GZ0010719HMX',\n",
       "  'GZ0010719HMX',\n",
       "  'GZ0010719HMX',\n",
       "  'GZ0010719HMX',\n",
       "  'GZ0010719HMX',\n",
       "  'GZ0010719HMX',\n",
       "  'GZ0010719HMX',\n",
       "  'GZ0010719HMX',\n",
       "  'GZ0010719HMX',\n",
       "  'GZ0010719HMX',\n",
       "  'GZ0010719HMX',\n",
       "  'GZ0010719HMX',\n",
       "  'GZ0010719HMX',\n",
       "  'GZ0010719HMX',\n",
       "  'GZ0010719HMX',\n",
       "  'GZ0010719HMX',\n",
       "  'GZ0010719HMX',\n",
       "  'GZ0010719HMX',\n",
       "  'GZ0010719HMX',\n",
       "  'GZ0010719HMX',\n",
       "  'GZ0010719HMX',\n",
       "  'GZ0010719HMX',\n",
       "  'GZ0010719HMX',\n",
       "  'GZ0010719HMX',\n",
       "  'GZ0010719HMX',\n",
       "  'GZ0010719HMX',\n",
       "  'GZ0010719HMX',\n",
       "  'GZ0010719HMX',\n",
       "  'GZ0010719HMX',\n",
       "  'GZ0010719HMX',\n",
       "  'GZ0010719HMX',\n",
       "  'GZ0010719HMX',\n",
       "  'GZ0010719HMX',\n",
       "  'GZ0010719HMX',\n",
       "  'GZ0010719HMX',\n",
       "  'GZ0010719HMX',\n",
       "  'GZ0010719HMX',\n",
       "  'GZ0010719HMX',\n",
       "  'GZ0010719HMX',\n",
       "  'GZ0010719HMX',\n",
       "  'GZ0010719HMX',\n",
       "  'GZ0010719HMX',\n",
       "  'GZ0010719HMX',\n",
       "  'GZ0010719HMX',\n",
       "  'GZ0010719HMX',\n",
       "  'GZ0010719HMX',\n",
       "  'GZ0010719HMX',\n",
       "  'GZ0010719HMX',\n",
       "  'GZ0010719HMX',\n",
       "  'GZ0010719HMX',\n",
       "  'GZ0010719HMX',\n",
       "  'GZ0010719HMX',\n",
       "  'GZ0010719HMX',\n",
       "  'GZ0010719HMX',\n",
       "  'GZ0010719HMX',\n",
       "  'GZ0010719HMX',\n",
       "  'GZ0010719HMX',\n",
       "  'GZ0010719HMX',\n",
       "  'GZ0010719HMX',\n",
       "  'GZ0010719HMX',\n",
       "  'GZ0010719HMX',\n",
       "  'GZ0010719HMX',\n",
       "  'GZ0010719HMX',\n",
       "  'GZ0010719HMX',\n",
       "  'GZ0010719HMX',\n",
       "  'GZ0010719HMX',\n",
       "  'GZ0010719HMX',\n",
       "  'GZ0010719HMX',\n",
       "  'GZ0010719HMX',\n",
       "  'GZ0010719HMX',\n",
       "  'GZ0010719HMX',\n",
       "  'GZ0010719HMX',\n",
       "  'GZ0010719HMX',\n",
       "  'GZ0010719HMX',\n",
       "  'GZ0010719HMX',\n",
       "  'GZ0010719HMX',\n",
       "  'GZ0010719HMX',\n",
       "  'GZ0010719HMX',\n",
       "  'GZ0010719HMX',\n",
       "  'GZ0010719HMX',\n",
       "  'GZ0010719HMX',\n",
       "  'GZ0010719HMX',\n",
       "  'GZ0010719HMX',\n",
       "  'GZ0010719HMX',\n",
       "  'GZ0010719HMX',\n",
       "  'GZ0010719HMX',\n",
       "  'GZ0010719HMX',\n",
       "  'GZ0010719HMX',\n",
       "  'GZ0010719HMX',\n",
       "  'GZ0010719HMX',\n",
       "  'GZ0010719HMX',\n",
       "  'GZ0010719HMX',\n",
       "  'GZ0010719HMX',\n",
       "  'GZ0010719HMX',\n",
       "  'GZ0010719HMX',\n",
       "  'GZ0010719HMX',\n",
       "  'GZ0010719HMX',\n",
       "  'GZ0010719HMX',\n",
       "  'GZ0010719HMX',\n",
       "  'GZ0010719HMX',\n",
       "  'GZ0010719HMX',\n",
       "  'GZ0010719HMX',\n",
       "  'GZ0010719HMX',\n",
       "  'GZ0010719HMX',\n",
       "  'GZ0010719HMX',\n",
       "  'GZ0010719HMX',\n",
       "  'GZ0010719HMX',\n",
       "  'GZ0010719HMX',\n",
       "  'GZ0010719HMX',\n",
       "  'GZ0010719HMX',\n",
       "  'GZ0010719HMX',\n",
       "  'GZ0010719HMX',\n",
       "  'GZ0010719HMX',\n",
       "  'GZ0010719HMX',\n",
       "  'GZ0010719HMX',\n",
       "  'GZ0010719HMX',\n",
       "  'GZ0010719HMX',\n",
       "  'GZ0010719HMX',\n",
       "  'GZ0010719HMX',\n",
       "  'GZ0010719HMX',\n",
       "  'GZ0010719HMX',\n",
       "  'GZ0010719HMX',\n",
       "  'GZ0010719HMX',\n",
       "  'GZ0010719HMX',\n",
       "  'GZ0010719HMX',\n",
       "  'GZ0010719HMX',\n",
       "  'GZ0010719HMX',\n",
       "  'GZ0010719HMX',\n",
       "  'GZ0010719HMX',\n",
       "  'GZ0010719HMX',\n",
       "  'GZ0010719HMX',\n",
       "  'GZ0010719HMX',\n",
       "  'GZ0010719HMX',\n",
       "  'GZ0010719HMX',\n",
       "  'GZ0010719HMX',\n",
       "  'GZ0010719HMX',\n",
       "  'GZ0010719HMX',\n",
       "  'GZ0010719HMX',\n",
       "  'GZ0010719HMX',\n",
       "  'GZ0010719HMX',\n",
       "  'GZ0010719HMX',\n",
       "  'GZ0010719HMX',\n",
       "  'GZ0010719HMX',\n",
       "  'GZ0010719HMX',\n",
       "  'GZ0010719HMX',\n",
       "  'GZ0010719HMX',\n",
       "  'GZ0010719HMX',\n",
       "  'GZ0010719HMX',\n",
       "  'GZ0010719HMX',\n",
       "  'GZ0010719HMX',\n",
       "  'GZ0010719HMX',\n",
       "  'GZ0010719HMX',\n",
       "  'GZ0010719HMX',\n",
       "  'GZ0010719HMX',\n",
       "  'GZ0010719HMX',\n",
       "  'GZ0010719HMX',\n",
       "  'GZ0010719HMX',\n",
       "  'GZ0010719HMX',\n",
       "  'GZ0010719HMX',\n",
       "  'GZ0010719HMX',\n",
       "  'GZ0010719HMX',\n",
       "  'GZ0010719HMX',\n",
       "  'GZ0010719HMX',\n",
       "  'GZ0010719HMX',\n",
       "  'GZ0010719HMX',\n",
       "  'GZ0010719HMX',\n",
       "  'GZ0010719HMX',\n",
       "  'GZ0010719HMX',\n",
       "  'GZ0010719HMX',\n",
       "  'GZ0010719HMX',\n",
       "  'GZ0010719HMX',\n",
       "  'GZ0010719HMX',\n",
       "  'GZ0010719HMX',\n",
       "  'GZ0010719HMX',\n",
       "  'GZ0010719HMX',\n",
       "  'GZ0010719HMX',\n",
       "  'GZ0010719HMX',\n",
       "  'GZ0010719HMX',\n",
       "  'GZ0010719HMX',\n",
       "  'GZ0010719HMX',\n",
       "  'GZ0010719HMX',\n",
       "  'GZ0010719HMX',\n",
       "  'GZ0010719HMX',\n",
       "  'GZ0010719HMX',\n",
       "  'GZ0010719HMX',\n",
       "  'GZ0010719HMX',\n",
       "  'GZ0010719HMX',\n",
       "  'GZ0010719HMX',\n",
       "  'GZ0010719HMX',\n",
       "  'GZ0010719HMX',\n",
       "  'GZ0010719HMX',\n",
       "  'GZ0010719HMX',\n",
       "  'GZ0010719HMX',\n",
       "  'GZ0010719HMX',\n",
       "  'GZ0010719HMX',\n",
       "  'GZ0010719HMX',\n",
       "  'GZ0010719HMX',\n",
       "  'GZ0010719HMX',\n",
       "  'GZ0010719HMX',\n",
       "  'GZ0010719HMX',\n",
       "  'GZ0010719HMX',\n",
       "  'GZ0010719HMX'],\n",
       " ['U1000',\n",
       "  'U1001',\n",
       "  'U1005',\n",
       "  'U1006',\n",
       "  'U1007',\n",
       "  'U1008',\n",
       "  'U1009',\n",
       "  'U1010',\n",
       "  'U1011',\n",
       "  'U1014',\n",
       "  'U1020',\n",
       "  'U1021',\n",
       "  'U1041',\n",
       "  'U1046',\n",
       "  'U1049',\n",
       "  'U1050',\n",
       "  'U1051',\n",
       "  'U1052',\n",
       "  'U1059',\n",
       "  'U1060',\n",
       "  'U1071',\n",
       "  'U1071',\n",
       "  'U1072',\n",
       "  'U1073',\n",
       "  'U1075',\n",
       "  'U1076',\n",
       "  'U1077',\n",
       "  'U1078',\n",
       "  'U1079',\n",
       "  'U1080',\n",
       "  'U1087',\n",
       "  'U1088',\n",
       "  'U1089',\n",
       "  'U1090',\n",
       "  'U1092',\n",
       "  'U1100',\n",
       "  'U1102',\n",
       "  'U1119',\n",
       "  'U1120',\n",
       "  'U1121',\n",
       "  'U148',\n",
       "  'U152',\n",
       "  'U158',\n",
       "  'U175',\n",
       "  'U181',\n",
       "  'U183',\n",
       "  'U204',\n",
       "  'U211',\n",
       "  'U241',\n",
       "  'U242',\n",
       "  'U257',\n",
       "  'U283',\n",
       "  'U284',\n",
       "  'U285',\n",
       "  'U301',\n",
       "  'U302',\n",
       "  'U314',\n",
       "  'U318',\n",
       "  'U319',\n",
       "  'U323',\n",
       "  'U324',\n",
       "  'U329',\n",
       "  'U332',\n",
       "  'U339',\n",
       "  'U344',\n",
       "  'U345',\n",
       "  'U350',\n",
       "  'U351',\n",
       "  'U371',\n",
       "  'U374',\n",
       "  'U379',\n",
       "  'U385',\n",
       "  'U408',\n",
       "  'U409',\n",
       "  'U410',\n",
       "  'U411',\n",
       "  'U413',\n",
       "  'U420',\n",
       "  'U421',\n",
       "  'U422',\n",
       "  'U423',\n",
       "  'U424',\n",
       "  'U431',\n",
       "  'U44',\n",
       "  'U464',\n",
       "  'U473',\n",
       "  'U478',\n",
       "  'U47',\n",
       "  'U500',\n",
       "  'U513',\n",
       "  'U514',\n",
       "  'U515',\n",
       "  'U51',\n",
       "  'U527',\n",
       "  'U52',\n",
       "  'U550',\n",
       "  'U554',\n",
       "  'U555',\n",
       "  'U563',\n",
       "  'U565',\n",
       "  'U567',\n",
       "  'U586',\n",
       "  'U603',\n",
       "  'U604',\n",
       "  'U634',\n",
       "  'U634',\n",
       "  'U639',\n",
       "  'U649',\n",
       "  'U651',\n",
       "  'U652',\n",
       "  'U653',\n",
       "  'U654',\n",
       "  'U655',\n",
       "  'U655',\n",
       "  'U656',\n",
       "  'U656',\n",
       "  'U661',\n",
       "  'U662',\n",
       "  'U662',\n",
       "  'U663',\n",
       "  'U678',\n",
       "  'U67',\n",
       "  'U687',\n",
       "  'U688',\n",
       "  'U690',\n",
       "  'U691',\n",
       "  'U697',\n",
       "  'U698',\n",
       "  'U699',\n",
       "  'U700',\n",
       "  'U701',\n",
       "  'U702',\n",
       "  'U705',\n",
       "  'U710',\n",
       "  'U714',\n",
       "  'U715',\n",
       "  'U719',\n",
       "  'U725',\n",
       "  'U726',\n",
       "  'U727',\n",
       "  'U730',\n",
       "  'U743',\n",
       "  'U744',\n",
       "  'U749',\n",
       "  'U750',\n",
       "  'U759',\n",
       "  'U761',\n",
       "  'U776',\n",
       "  'U77',\n",
       "  'U782',\n",
       "  'U787',\n",
       "  'U788',\n",
       "  'U789',\n",
       "  'U78',\n",
       "  'U800',\n",
       "  'U810',\n",
       "  'U815',\n",
       "  'U823',\n",
       "  'U824',\n",
       "  'U826',\n",
       "  'U831',\n",
       "  'U832',\n",
       "  'U833',\n",
       "  'U834',\n",
       "  'U835',\n",
       "  'U836',\n",
       "  'U837',\n",
       "  'U838',\n",
       "  'U839',\n",
       "  'U83',\n",
       "  'U84',\n",
       "  'U85',\n",
       "  'U861',\n",
       "  'U863',\n",
       "  'U864',\n",
       "  'U865',\n",
       "  'U866',\n",
       "  'U873',\n",
       "  'U880',\n",
       "  'U881',\n",
       "  'U882',\n",
       "  'U886',\n",
       "  'U887',\n",
       "  'U893',\n",
       "  'U895',\n",
       "  'U89',\n",
       "  'U926',\n",
       "  'U929',\n",
       "  'U930',\n",
       "  'U934',\n",
       "  'U940',\n",
       "  'U946',\n",
       "  'U954',\n",
       "  'U955',\n",
       "  'U956',\n",
       "  'U957',\n",
       "  'U961',\n",
       "  'U976',\n",
       "  'U977',\n",
       "  'U983',\n",
       "  'U997',\n",
       "  'U998',\n",
       "  'U999'])"
      ]
     },
     "execution_count": 106,
     "metadata": {},
     "output_type": "execute_result"
    }
   ],
   "source": [
    "multi_path_split(files)"
   ]
  },
  {
   "cell_type": "code",
   "execution_count": 155,
   "id": "c1850ff6",
   "metadata": {
    "ExecuteTime": {
     "end_time": "2021-10-12T18:37:19.195140Z",
     "start_time": "2021-10-12T18:37:19.187194Z"
    }
   },
   "outputs": [],
   "source": [
    "# add the info for other columns in here so they can get passed along through the other functions\n",
    "\n",
    "def single_cycle_plot(data_file):\n",
    "    \n",
    "    df = pd.read_csv(data_file, names=['y'])\n",
    "    df = df[0:21000]\n",
    "\n",
    "    sns.set_style(\"dark\")\n",
    "    plt.figure(figsize = (12, 5))\n",
    "    plt.title(f'All Cycles:')\n",
    "    \n",
    "    plt.plot(df)\n",
    "    \n",
    "    return df"
   ]
  },
  {
   "cell_type": "code",
   "execution_count": 6,
   "id": "630d01ab",
   "metadata": {
    "ExecuteTime": {
     "end_time": "2021-10-08T04:01:57.173649Z",
     "start_time": "2021-10-08T04:01:57.166668Z"
    }
   },
   "outputs": [],
   "source": [
    "def indiv_cycles(df):\n",
    "\n",
    "    data_list = df['y'].to_list()\n",
    "    n = 700\n",
    "    cycle_arrays = [data_list[i: i + n] for i in range(0, len(data_list), n)]\n",
    "    cycle_arrays = np.array(cycle_arrays)\n",
    "\n",
    "#     plot_title = graph_title(data_file)\n",
    "    \n",
    "    sns.set_style(\"dark\")\n",
    "    plt.figure(figsize = (12, 5))\n",
    "    plt.title('Stacked Cycles')\n",
    "\n",
    "    for x in range(0, len(cycle_arrays)):\n",
    "        plt.plot(cycle_arrays[x])\n",
    "        \n",
    "    return cycle_arrays"
   ]
  },
  {
   "cell_type": "code",
   "execution_count": 7,
   "id": "f50a64a1",
   "metadata": {
    "ExecuteTime": {
     "end_time": "2021-10-08T04:01:58.308887Z",
     "start_time": "2021-10-08T04:01:58.278333Z"
    }
   },
   "outputs": [],
   "source": [
    "def zero_pinned(cycle_arrays):\n",
    "    \n",
    "    pinned_arrays = np.array(cycle_arrays)\n",
    "    \n",
    "    sns.set_style(\"dark\")\n",
    "    plt.figure(figsize = (12, 5))\n",
    "    plt.title('Zero Pinned Cycles')\n",
    "\n",
    "    for x in range(0, len(pinned_arrays)):\n",
    "        pinned_arrays[x] = pinned_arrays[x] - pinned_arrays[x][0]\n",
    "        plt.plot(pinned_arrays[x])\n",
    "\n",
    "    return pinned_arrays"
   ]
  },
  {
   "cell_type": "code",
   "execution_count": 127,
   "id": "9e0a399f",
   "metadata": {
    "ExecuteTime": {
     "end_time": "2021-10-11T20:26:53.562824Z",
     "start_time": "2021-10-11T20:26:53.532277Z"
    }
   },
   "outputs": [],
   "source": [
    "def double_pinned(pinned_arrays):\n",
    "    \n",
    "    copy_pinned = pinned_arrays.copy()\n",
    "    x_list = copy_pinned\n",
    "    \n",
    "    for i in range(0, len(pinned_arrays)):\n",
    "        for j in range(0, 700):\n",
    "            x_list[i][j] = j + 1\n",
    "\n",
    "    new_cycle_array_x = x_list\n",
    "    new_cycle_array_y = pinned_arrays\n",
    "\n",
    "    for n in range(0, len(new_cycle_array_y)):\n",
    "\n",
    "        new_x = []\n",
    "        new_y = []\n",
    "        new_xp = []\n",
    "        new_yp = []\n",
    "\n",
    "        '''For loop to pin each cycle to the origin and create list of the last value in each cycle'''\n",
    "\n",
    "        new_y = pinned_arrays[n]\n",
    "        end_yp = new_y[699]\n",
    "\n",
    "        for i in range(0, len(new_y)):\n",
    "            new_x.append(i)\n",
    "            new_xp.append(i)\n",
    "            new_yp.append(i)\n",
    "\n",
    "        '''While loop to adjust cycle depending on its last value...'''\n",
    "\n",
    "        '''Clockwise adjustment if cycle ends above 0 (postive value)'''\n",
    "\n",
    "        rad = new_y[699]/700\n",
    "\n",
    "        for i in range(0, len(new_y)):\n",
    "            xp =  new_x[i] * math.cos(rad) + new_y[i] * math.sin(rad)\n",
    "            yp = -new_x[i] * math.sin(rad) + new_y[i] * math.cos(rad)\n",
    "            new_xp[i] = xp\n",
    "            new_yp[i] = yp\n",
    "            end_yp = yp\n",
    "\n",
    "        new_cycle_array_x[n] = new_xp \n",
    "        new_cycle_array_y[n] = new_yp\n",
    "\n",
    "    sns.set_style(\"dark\")\n",
    "    plt.figure(figsize = (12, 5))\n",
    "    plt.title('Double Pinned Cycles')\n",
    "        \n",
    "    for n in range(0, len(new_cycle_array_y)):\n",
    "        plt.plot(new_cycle_array_x[n], new_cycle_array_y[n])\n",
    "            \n",
    "    return new_cycle_array_x, new_cycle_array_y"
   ]
  },
  {
   "cell_type": "code",
   "execution_count": 153,
   "id": "2faa3710",
   "metadata": {
    "ExecuteTime": {
     "end_time": "2021-10-12T18:31:12.592230Z",
     "start_time": "2021-10-12T18:31:12.581260Z"
    }
   },
   "outputs": [],
   "source": [
    "def slope(double_pinned_arrays_x, double_pinned_arrays_y):\n",
    "    rising_slope = []\n",
    "    for n in range(0, len(double_pinned_arrays_y)):\n",
    "        slopes = (double_pinned_arrays_y[n][200] - double_pinned_arrays_y[n][100]) / (double_pinned_arrays_x[n][200] - double_pinned_arrays_x[n][100])\n",
    "        rising_slope.append(slopes)\n",
    "        \n",
    "    return rising_slope"
   ]
  },
  {
   "cell_type": "code",
   "execution_count": 9,
   "id": "a44125ec",
   "metadata": {
    "ExecuteTime": {
     "end_time": "2021-10-08T04:02:02.549571Z",
     "start_time": "2021-10-08T04:02:02.538127Z"
    }
   },
   "outputs": [],
   "source": [
    "def mean_height(double_pinned_arrays_y):\n",
    "    \n",
    "    plateau_avgs = []\n",
    "    for n in range(0, len(double_pinned_arrays_y)):\n",
    "        plateau_vals = double_pinned_arrays_y[n][200:380:1]\n",
    "        plateau_avgs.append(sum(plateau_vals) / len(plateau_vals))\n",
    "    \n",
    "    return plateau_avgs"
   ]
  },
  {
   "cell_type": "code",
   "execution_count": 151,
   "id": "a09e9790",
   "metadata": {
    "ExecuteTime": {
     "end_time": "2021-10-12T18:29:47.309202Z",
     "start_time": "2021-10-12T18:29:47.275257Z"
    }
   },
   "outputs": [],
   "source": [
    "# TURN LAMBDA INTO FUNCTION TO MAKE THE BELOW MORE PYTHONIC\n",
    "\n",
    "def width_stats(double_pinned_arrays_y):\n",
    "    rising_edges_15 = []\n",
    "    for n in range(0, len(double_pinned_arrays_y)):\n",
    "        rising_edges_15.append(list(map(lambda x: x > (plateau_avgs[n] * .15), double_pinned_arrays_y[n])).index(True))\n",
    "\n",
    "    falling_edges_list_15 = []\n",
    "    for n in range(0, len(double_pinned_arrays_y)):\n",
    "        falling_edges_list_15.append(list(map(lambda x: x > (plateau_avgs[n] * .15), double_pinned_arrays_y[n][::-1])).index(True))\n",
    "        falling_edges_15 = [700 - i for i in falling_edges_list_15]\n",
    "\n",
    "    width_15 = []\n",
    "    zip_object = zip(rising_edges_15, falling_edges_15)\n",
    "    for rising_edges_15_i, falling_edges_15_i in zip_object:\n",
    "        width_15.append(falling_edges_15_i - rising_edges_15_i)\n",
    "        \n",
    "    rising_edges_30 = []\n",
    "    for n in range(0, len(double_pinned_arrays_y)):\n",
    "        rising_edges_30.append(list(map(lambda x: x > (plateau_avgs[n] * .3), double_pinned_arrays_y[n])).index(True))\n",
    "\n",
    "    falling_edges_list_30 = []\n",
    "    for n in range(0, len(double_pinned_arrays_y)):\n",
    "        falling_edges_list_30.append(list(map(lambda x: x > (plateau_avgs[n] * .3), double_pinned_arrays_y[n][::-1])).index(True))\n",
    "        falling_edges_30 = [700 - i for i in falling_edges_list_30]\n",
    "\n",
    "    width_30 = []\n",
    "    zip_object = zip(rising_edges_30, falling_edges_30)\n",
    "    for rising_edges_30_i, falling_edges_30_i in zip_object:\n",
    "        width_30.append(falling_edges_30_i - rising_edges_30_i)\n",
    "\n",
    "    rising_edges_45 = []\n",
    "    for n in range(0, len(double_pinned_arrays_y)):\n",
    "        rising_edges_45.append(list(map(lambda x: x > (plateau_avgs[n] * .45), double_pinned_arrays_y[n])).index(True))\n",
    "\n",
    "    falling_edges_list_45 = []\n",
    "    for n in range(0, len(double_pinned_arrays_y)):\n",
    "        falling_edges_list_45.append(list(map(lambda x: x > (plateau_avgs[n] * .45), double_pinned_arrays_y[n][::-1])).index(True))\n",
    "        falling_edges_45 = [700 - i for i in falling_edges_list_45]\n",
    "\n",
    "    width_45 = []\n",
    "    zip_object = zip(rising_edges_45, falling_edges_45)\n",
    "    for rising_edges_45_i, falling_edges_45_i in zip_object:\n",
    "        width_45.append(falling_edges_45_i - rising_edges_45_i)    \n",
    "\n",
    "    rising_edges_50 = []\n",
    "    for n in range(0, len(double_pinned_arrays_y)):\n",
    "        rising_edges_50.append(list(map(lambda x: x > (plateau_avgs[n] * .5), double_pinned_arrays_y[n])).index(True))\n",
    "\n",
    "    falling_edges_list_50 = []\n",
    "    for n in range(0, len(double_pinned_arrays_y)):\n",
    "        falling_edges_list_50.append(list(map(lambda x: x > (plateau_avgs[n] * .5), double_pinned_arrays_y[n][::-1])).index(True))\n",
    "        falling_edges_50 = [700 - i for i in falling_edges_list_50]\n",
    "\n",
    "    width_50 = []\n",
    "    zip_object = zip(rising_edges_50, falling_edges_50)\n",
    "    for rising_edges_50_i, falling_edges_50_i in zip_object:\n",
    "        width_50.append(falling_edges_50_i - rising_edges_50_i)\n",
    "        \n",
    "    rising_edges_65 = []\n",
    "    for n in range(0, len(double_pinned_arrays_y)):\n",
    "        rising_edges_65.append(list(map(lambda x: x > (plateau_avgs[n] * .65), double_pinned_arrays_y[n])).index(True))\n",
    "    \n",
    "    falling_edges_list_65 = []\n",
    "    for n in range(0, len(double_pinned_arrays_y)):\n",
    "        falling_edges_list_65.append(list(map(lambda x: x > (plateau_avgs[n] * .65), double_pinned_arrays_y[n][::-1])).index(True))\n",
    "        falling_edges_65 = [700 - i for i in falling_edges_list_65]\n",
    "\n",
    "    width_65 = []\n",
    "    zip_object = zip(rising_edges_65, falling_edges_65)\n",
    "    for rising_edges_65_i, falling_edges_65_i in zip_object:\n",
    "        width_65.append(falling_edges_65_i - rising_edges_65_i)    \n",
    "        \n",
    "    rising_edges_80 = []\n",
    "    for n in range(0, len(double_pinned_arrays_y)):\n",
    "        rising_edges_80.append(list(map(lambda x: x > (plateau_avgs[n] * .80), double_pinned_arrays_y[n])).index(True))\n",
    "    \n",
    "    falling_edges_list_80 = []\n",
    "    for n in range(0, len(double_pinned_arrays_y)):\n",
    "        falling_edges_list_80.append(list(map(lambda x: x > (plateau_avgs[n] * .80), double_pinned_arrays_y[n][::-1])).index(True))\n",
    "        falling_edges_80 = [700 - i for i in falling_edges_list_65]\n",
    "\n",
    "    width_80= []\n",
    "    zip_object = zip(rising_edges_80, falling_edges_80)\n",
    "    for rising_edges_80_i, falling_edges_80_i in zip_object:\n",
    "        width_80.append(falling_edges_80_i - rising_edges_80_i)  \n",
    "\n",
    "    rising_slope = slope(double_pinned_arrays_x, double_pinned_arrays_y)\n",
    "        \n",
    "    metrics_df = pd.DataFrame(\n",
    "        {'rising_edges_15': rising_edges_15,\n",
    "         'width_15': width_15,\n",
    "         'rising_edges_30': rising_edges_30,\n",
    "         'width_30': width_30,\n",
    "         'rising_edges_45': rising_edges_45,\n",
    "         'width_45': width_45,\n",
    "         'rising_edges_50': rising_edges_50,\n",
    "         'width_50': width_50,\n",
    "         'rising_edges_65': rising_edges_65,\n",
    "         'width_65': width_65,\n",
    "         'rising_edges_80': rising_edges_80,\n",
    "         'width_80': width_80,\n",
    "         'rising_slope': rising_slope\n",
    "        })\n",
    "    \n",
    "    metrics_df['cycle_number'] = metrics_df.index\n",
    "\n",
    "    metrics_df.loc['mean'] = metrics_df.mean()\n",
    "    \n",
    "    metrics_df[[\"cycle_number\", \"rising_edges_15\", \"width_15\", \"rising_edges_30\", \"width_30\", \"rising_edges_45\", \"width_45\", \"rising_edges_50\", \"width_50\", \"rising_edges_65\", \"width_65\", \"rising_edges_80\", \"width_80\"]] = metrics_df[[\"cycle_number\", \"rising_edges_15\", \"width_15\", \"rising_edges_30\", \"width_30\", \"rising_edges_45\", \"width_45\", \"rising_edges_50\", \"width_50\", \"rising_edges_65\", \"width_65\", \"rising_edges_80\", \"width_80\"]].astype(int)    \n",
    "    \n",
    "    cols = metrics_df.columns.tolist()\n",
    "    cols = cols[-1:] + cols[:-1]\n",
    "    metrics_df = metrics_df[cols]\n",
    "    \n",
    "    metrics_df.to_csv('metrics_df_new.csv', index=False)\n",
    "    \n",
    "    return print(metrics_df)"
   ]
  },
  {
   "cell_type": "code",
   "execution_count": 74,
   "id": "3cbb2642",
   "metadata": {
    "ExecuteTime": {
     "end_time": "2021-10-08T19:27:17.674467Z",
     "start_time": "2021-10-08T19:27:17.658322Z"
    }
   },
   "outputs": [],
   "source": []
  },
  {
   "cell_type": "markdown",
   "id": "25947780",
   "metadata": {},
   "source": [
    "# Main Loop"
   ]
  },
  {
   "cell_type": "code",
   "execution_count": 158,
   "id": "1a575aef",
   "metadata": {
    "ExecuteTime": {
     "end_time": "2021-10-12T19:08:33.242675Z",
     "start_time": "2021-10-12T19:08:23.225297Z"
    }
   },
   "outputs": [
    {
     "name": "stdout",
     "output_type": "stream",
     "text": [
      "Manual selection\n"
     ]
    },
    {
     "ename": "PermissionError",
     "evalue": "[Errno 13] Permission denied: '.'",
     "output_type": "error",
     "traceback": [
      "\u001b[1;31m---------------------------------------------------------------------------\u001b[0m",
      "\u001b[1;31mPermissionError\u001b[0m                           Traceback (most recent call last)",
      "\u001b[1;32m~\\AppData\\Local\\Temp/ipykernel_12264/1568971091.py\u001b[0m in \u001b[0;36m<module>\u001b[1;34m\u001b[0m\n\u001b[0;32m     40\u001b[0m         \u001b[0mdata_file\u001b[0m \u001b[1;33m=\u001b[0m \u001b[0mgetFilename\u001b[0m\u001b[1;33m(\u001b[0m\u001b[1;33m)\u001b[0m\u001b[1;33m\u001b[0m\u001b[1;33m\u001b[0m\u001b[0m\n\u001b[0;32m     41\u001b[0m \u001b[1;33m\u001b[0m\u001b[0m\n\u001b[1;32m---> 42\u001b[1;33m         \u001b[0mdf\u001b[0m \u001b[1;33m=\u001b[0m \u001b[0msingle_cycle_plot\u001b[0m\u001b[1;33m(\u001b[0m\u001b[0mdata_file\u001b[0m\u001b[1;33m)\u001b[0m\u001b[1;33m\u001b[0m\u001b[1;33m\u001b[0m\u001b[0m\n\u001b[0m\u001b[0;32m     43\u001b[0m         \u001b[0mcycle_arrays\u001b[0m \u001b[1;33m=\u001b[0m \u001b[0mindiv_cycles\u001b[0m\u001b[1;33m(\u001b[0m\u001b[0mdf\u001b[0m\u001b[1;33m)\u001b[0m\u001b[1;33m\u001b[0m\u001b[1;33m\u001b[0m\u001b[0m\n\u001b[0;32m     44\u001b[0m         \u001b[0mpinned_arrays\u001b[0m \u001b[1;33m=\u001b[0m \u001b[0mzero_pinned\u001b[0m\u001b[1;33m(\u001b[0m\u001b[0mcycle_arrays\u001b[0m\u001b[1;33m)\u001b[0m\u001b[1;33m\u001b[0m\u001b[1;33m\u001b[0m\u001b[0m\n",
      "\u001b[1;32m~\\AppData\\Local\\Temp/ipykernel_12264/1685951437.py\u001b[0m in \u001b[0;36msingle_cycle_plot\u001b[1;34m(data_file)\u001b[0m\n\u001b[0;32m      3\u001b[0m \u001b[1;32mdef\u001b[0m \u001b[0msingle_cycle_plot\u001b[0m\u001b[1;33m(\u001b[0m\u001b[0mdata_file\u001b[0m\u001b[1;33m)\u001b[0m\u001b[1;33m:\u001b[0m\u001b[1;33m\u001b[0m\u001b[1;33m\u001b[0m\u001b[0m\n\u001b[0;32m      4\u001b[0m \u001b[1;33m\u001b[0m\u001b[0m\n\u001b[1;32m----> 5\u001b[1;33m     \u001b[0mdf\u001b[0m \u001b[1;33m=\u001b[0m \u001b[0mpd\u001b[0m\u001b[1;33m.\u001b[0m\u001b[0mread_csv\u001b[0m\u001b[1;33m(\u001b[0m\u001b[0mdata_file\u001b[0m\u001b[1;33m,\u001b[0m \u001b[0mnames\u001b[0m\u001b[1;33m=\u001b[0m\u001b[1;33m[\u001b[0m\u001b[1;34m'y'\u001b[0m\u001b[1;33m]\u001b[0m\u001b[1;33m)\u001b[0m\u001b[1;33m\u001b[0m\u001b[1;33m\u001b[0m\u001b[0m\n\u001b[0m\u001b[0;32m      6\u001b[0m     \u001b[0mdf\u001b[0m \u001b[1;33m=\u001b[0m \u001b[0mdf\u001b[0m\u001b[1;33m[\u001b[0m\u001b[1;36m0\u001b[0m\u001b[1;33m:\u001b[0m\u001b[1;36m21000\u001b[0m\u001b[1;33m]\u001b[0m\u001b[1;33m\u001b[0m\u001b[1;33m\u001b[0m\u001b[0m\n\u001b[0;32m      7\u001b[0m \u001b[1;33m\u001b[0m\u001b[0m\n",
      "\u001b[1;32mc:\\python\\python396\\lib\\site-packages\\pandas\\util\\_decorators.py\u001b[0m in \u001b[0;36mwrapper\u001b[1;34m(*args, **kwargs)\u001b[0m\n\u001b[0;32m    309\u001b[0m                     \u001b[0mstacklevel\u001b[0m\u001b[1;33m=\u001b[0m\u001b[0mstacklevel\u001b[0m\u001b[1;33m,\u001b[0m\u001b[1;33m\u001b[0m\u001b[1;33m\u001b[0m\u001b[0m\n\u001b[0;32m    310\u001b[0m                 )\n\u001b[1;32m--> 311\u001b[1;33m             \u001b[1;32mreturn\u001b[0m \u001b[0mfunc\u001b[0m\u001b[1;33m(\u001b[0m\u001b[1;33m*\u001b[0m\u001b[0margs\u001b[0m\u001b[1;33m,\u001b[0m \u001b[1;33m**\u001b[0m\u001b[0mkwargs\u001b[0m\u001b[1;33m)\u001b[0m\u001b[1;33m\u001b[0m\u001b[1;33m\u001b[0m\u001b[0m\n\u001b[0m\u001b[0;32m    312\u001b[0m \u001b[1;33m\u001b[0m\u001b[0m\n\u001b[0;32m    313\u001b[0m         \u001b[1;32mreturn\u001b[0m \u001b[0mwrapper\u001b[0m\u001b[1;33m\u001b[0m\u001b[1;33m\u001b[0m\u001b[0m\n",
      "\u001b[1;32mc:\\python\\python396\\lib\\site-packages\\pandas\\io\\parsers\\readers.py\u001b[0m in \u001b[0;36mread_csv\u001b[1;34m(filepath_or_buffer, sep, delimiter, header, names, index_col, usecols, squeeze, prefix, mangle_dupe_cols, dtype, engine, converters, true_values, false_values, skipinitialspace, skiprows, skipfooter, nrows, na_values, keep_default_na, na_filter, verbose, skip_blank_lines, parse_dates, infer_datetime_format, keep_date_col, date_parser, dayfirst, cache_dates, iterator, chunksize, compression, thousands, decimal, lineterminator, quotechar, quoting, doublequote, escapechar, comment, encoding, encoding_errors, dialect, error_bad_lines, warn_bad_lines, on_bad_lines, delim_whitespace, low_memory, memory_map, float_precision, storage_options)\u001b[0m\n\u001b[0;32m    584\u001b[0m     \u001b[0mkwds\u001b[0m\u001b[1;33m.\u001b[0m\u001b[0mupdate\u001b[0m\u001b[1;33m(\u001b[0m\u001b[0mkwds_defaults\u001b[0m\u001b[1;33m)\u001b[0m\u001b[1;33m\u001b[0m\u001b[1;33m\u001b[0m\u001b[0m\n\u001b[0;32m    585\u001b[0m \u001b[1;33m\u001b[0m\u001b[0m\n\u001b[1;32m--> 586\u001b[1;33m     \u001b[1;32mreturn\u001b[0m \u001b[0m_read\u001b[0m\u001b[1;33m(\u001b[0m\u001b[0mfilepath_or_buffer\u001b[0m\u001b[1;33m,\u001b[0m \u001b[0mkwds\u001b[0m\u001b[1;33m)\u001b[0m\u001b[1;33m\u001b[0m\u001b[1;33m\u001b[0m\u001b[0m\n\u001b[0m\u001b[0;32m    587\u001b[0m \u001b[1;33m\u001b[0m\u001b[0m\n\u001b[0;32m    588\u001b[0m \u001b[1;33m\u001b[0m\u001b[0m\n",
      "\u001b[1;32mc:\\python\\python396\\lib\\site-packages\\pandas\\io\\parsers\\readers.py\u001b[0m in \u001b[0;36m_read\u001b[1;34m(filepath_or_buffer, kwds)\u001b[0m\n\u001b[0;32m    480\u001b[0m \u001b[1;33m\u001b[0m\u001b[0m\n\u001b[0;32m    481\u001b[0m     \u001b[1;31m# Create the parser.\u001b[0m\u001b[1;33m\u001b[0m\u001b[1;33m\u001b[0m\u001b[1;33m\u001b[0m\u001b[0m\n\u001b[1;32m--> 482\u001b[1;33m     \u001b[0mparser\u001b[0m \u001b[1;33m=\u001b[0m \u001b[0mTextFileReader\u001b[0m\u001b[1;33m(\u001b[0m\u001b[0mfilepath_or_buffer\u001b[0m\u001b[1;33m,\u001b[0m \u001b[1;33m**\u001b[0m\u001b[0mkwds\u001b[0m\u001b[1;33m)\u001b[0m\u001b[1;33m\u001b[0m\u001b[1;33m\u001b[0m\u001b[0m\n\u001b[0m\u001b[0;32m    483\u001b[0m \u001b[1;33m\u001b[0m\u001b[0m\n\u001b[0;32m    484\u001b[0m     \u001b[1;32mif\u001b[0m \u001b[0mchunksize\u001b[0m \u001b[1;32mor\u001b[0m \u001b[0miterator\u001b[0m\u001b[1;33m:\u001b[0m\u001b[1;33m\u001b[0m\u001b[1;33m\u001b[0m\u001b[0m\n",
      "\u001b[1;32mc:\\python\\python396\\lib\\site-packages\\pandas\\io\\parsers\\readers.py\u001b[0m in \u001b[0;36m__init__\u001b[1;34m(self, f, engine, **kwds)\u001b[0m\n\u001b[0;32m    809\u001b[0m             \u001b[0mself\u001b[0m\u001b[1;33m.\u001b[0m\u001b[0moptions\u001b[0m\u001b[1;33m[\u001b[0m\u001b[1;34m\"has_index_names\"\u001b[0m\u001b[1;33m]\u001b[0m \u001b[1;33m=\u001b[0m \u001b[0mkwds\u001b[0m\u001b[1;33m[\u001b[0m\u001b[1;34m\"has_index_names\"\u001b[0m\u001b[1;33m]\u001b[0m\u001b[1;33m\u001b[0m\u001b[1;33m\u001b[0m\u001b[0m\n\u001b[0;32m    810\u001b[0m \u001b[1;33m\u001b[0m\u001b[0m\n\u001b[1;32m--> 811\u001b[1;33m         \u001b[0mself\u001b[0m\u001b[1;33m.\u001b[0m\u001b[0m_engine\u001b[0m \u001b[1;33m=\u001b[0m \u001b[0mself\u001b[0m\u001b[1;33m.\u001b[0m\u001b[0m_make_engine\u001b[0m\u001b[1;33m(\u001b[0m\u001b[0mself\u001b[0m\u001b[1;33m.\u001b[0m\u001b[0mengine\u001b[0m\u001b[1;33m)\u001b[0m\u001b[1;33m\u001b[0m\u001b[1;33m\u001b[0m\u001b[0m\n\u001b[0m\u001b[0;32m    812\u001b[0m \u001b[1;33m\u001b[0m\u001b[0m\n\u001b[0;32m    813\u001b[0m     \u001b[1;32mdef\u001b[0m \u001b[0mclose\u001b[0m\u001b[1;33m(\u001b[0m\u001b[0mself\u001b[0m\u001b[1;33m)\u001b[0m\u001b[1;33m:\u001b[0m\u001b[1;33m\u001b[0m\u001b[1;33m\u001b[0m\u001b[0m\n",
      "\u001b[1;32mc:\\python\\python396\\lib\\site-packages\\pandas\\io\\parsers\\readers.py\u001b[0m in \u001b[0;36m_make_engine\u001b[1;34m(self, engine)\u001b[0m\n\u001b[0;32m   1038\u001b[0m             )\n\u001b[0;32m   1039\u001b[0m         \u001b[1;31m# error: Too many arguments for \"ParserBase\"\u001b[0m\u001b[1;33m\u001b[0m\u001b[1;33m\u001b[0m\u001b[1;33m\u001b[0m\u001b[0m\n\u001b[1;32m-> 1040\u001b[1;33m         \u001b[1;32mreturn\u001b[0m \u001b[0mmapping\u001b[0m\u001b[1;33m[\u001b[0m\u001b[0mengine\u001b[0m\u001b[1;33m]\u001b[0m\u001b[1;33m(\u001b[0m\u001b[0mself\u001b[0m\u001b[1;33m.\u001b[0m\u001b[0mf\u001b[0m\u001b[1;33m,\u001b[0m \u001b[1;33m**\u001b[0m\u001b[0mself\u001b[0m\u001b[1;33m.\u001b[0m\u001b[0moptions\u001b[0m\u001b[1;33m)\u001b[0m  \u001b[1;31m# type: ignore[call-arg]\u001b[0m\u001b[1;33m\u001b[0m\u001b[1;33m\u001b[0m\u001b[0m\n\u001b[0m\u001b[0;32m   1041\u001b[0m \u001b[1;33m\u001b[0m\u001b[0m\n\u001b[0;32m   1042\u001b[0m     \u001b[1;32mdef\u001b[0m \u001b[0m_failover_to_python\u001b[0m\u001b[1;33m(\u001b[0m\u001b[0mself\u001b[0m\u001b[1;33m)\u001b[0m\u001b[1;33m:\u001b[0m\u001b[1;33m\u001b[0m\u001b[1;33m\u001b[0m\u001b[0m\n",
      "\u001b[1;32mc:\\python\\python396\\lib\\site-packages\\pandas\\io\\parsers\\c_parser_wrapper.py\u001b[0m in \u001b[0;36m__init__\u001b[1;34m(self, src, **kwds)\u001b[0m\n\u001b[0;32m     49\u001b[0m \u001b[1;33m\u001b[0m\u001b[0m\n\u001b[0;32m     50\u001b[0m         \u001b[1;31m# open handles\u001b[0m\u001b[1;33m\u001b[0m\u001b[1;33m\u001b[0m\u001b[1;33m\u001b[0m\u001b[0m\n\u001b[1;32m---> 51\u001b[1;33m         \u001b[0mself\u001b[0m\u001b[1;33m.\u001b[0m\u001b[0m_open_handles\u001b[0m\u001b[1;33m(\u001b[0m\u001b[0msrc\u001b[0m\u001b[1;33m,\u001b[0m \u001b[0mkwds\u001b[0m\u001b[1;33m)\u001b[0m\u001b[1;33m\u001b[0m\u001b[1;33m\u001b[0m\u001b[0m\n\u001b[0m\u001b[0;32m     52\u001b[0m         \u001b[1;32massert\u001b[0m \u001b[0mself\u001b[0m\u001b[1;33m.\u001b[0m\u001b[0mhandles\u001b[0m \u001b[1;32mis\u001b[0m \u001b[1;32mnot\u001b[0m \u001b[1;32mNone\u001b[0m\u001b[1;33m\u001b[0m\u001b[1;33m\u001b[0m\u001b[0m\n\u001b[0;32m     53\u001b[0m \u001b[1;33m\u001b[0m\u001b[0m\n",
      "\u001b[1;32mc:\\python\\python396\\lib\\site-packages\\pandas\\io\\parsers\\base_parser.py\u001b[0m in \u001b[0;36m_open_handles\u001b[1;34m(self, src, kwds)\u001b[0m\n\u001b[0;32m    220\u001b[0m         \u001b[0mLet\u001b[0m \u001b[0mthe\u001b[0m \u001b[0mreaders\u001b[0m \u001b[0mopen\u001b[0m \u001b[0mIOHandles\u001b[0m \u001b[0mafter\u001b[0m \u001b[0mthey\u001b[0m \u001b[0mare\u001b[0m \u001b[0mdone\u001b[0m \u001b[1;32mwith\u001b[0m \u001b[0mtheir\u001b[0m \u001b[0mpotential\u001b[0m \u001b[0mraises\u001b[0m\u001b[1;33m.\u001b[0m\u001b[1;33m\u001b[0m\u001b[1;33m\u001b[0m\u001b[0m\n\u001b[0;32m    221\u001b[0m         \"\"\"\n\u001b[1;32m--> 222\u001b[1;33m         self.handles = get_handle(\n\u001b[0m\u001b[0;32m    223\u001b[0m             \u001b[0msrc\u001b[0m\u001b[1;33m,\u001b[0m\u001b[1;33m\u001b[0m\u001b[1;33m\u001b[0m\u001b[0m\n\u001b[0;32m    224\u001b[0m             \u001b[1;34m\"r\"\u001b[0m\u001b[1;33m,\u001b[0m\u001b[1;33m\u001b[0m\u001b[1;33m\u001b[0m\u001b[0m\n",
      "\u001b[1;32mc:\\python\\python396\\lib\\site-packages\\pandas\\io\\common.py\u001b[0m in \u001b[0;36mget_handle\u001b[1;34m(path_or_buf, mode, encoding, compression, memory_map, is_text, errors, storage_options)\u001b[0m\n\u001b[0;32m    699\u001b[0m         \u001b[1;32mif\u001b[0m \u001b[0mioargs\u001b[0m\u001b[1;33m.\u001b[0m\u001b[0mencoding\u001b[0m \u001b[1;32mand\u001b[0m \u001b[1;34m\"b\"\u001b[0m \u001b[1;32mnot\u001b[0m \u001b[1;32min\u001b[0m \u001b[0mioargs\u001b[0m\u001b[1;33m.\u001b[0m\u001b[0mmode\u001b[0m\u001b[1;33m:\u001b[0m\u001b[1;33m\u001b[0m\u001b[1;33m\u001b[0m\u001b[0m\n\u001b[0;32m    700\u001b[0m             \u001b[1;31m# Encoding\u001b[0m\u001b[1;33m\u001b[0m\u001b[1;33m\u001b[0m\u001b[1;33m\u001b[0m\u001b[0m\n\u001b[1;32m--> 701\u001b[1;33m             handle = open(\n\u001b[0m\u001b[0;32m    702\u001b[0m                 \u001b[0mhandle\u001b[0m\u001b[1;33m,\u001b[0m\u001b[1;33m\u001b[0m\u001b[1;33m\u001b[0m\u001b[0m\n\u001b[0;32m    703\u001b[0m                 \u001b[0mioargs\u001b[0m\u001b[1;33m.\u001b[0m\u001b[0mmode\u001b[0m\u001b[1;33m,\u001b[0m\u001b[1;33m\u001b[0m\u001b[1;33m\u001b[0m\u001b[0m\n",
      "\u001b[1;31mPermissionError\u001b[0m: [Errno 13] Permission denied: '.'"
     ]
    }
   ],
   "source": [
    "# create pop window that asks if user wants to do a recursive loop or not\n",
    "state_1 = messagebox.askyesno(\"Manual or Recursive loop?\",\"Recursive loop?\")\n",
    "\n",
    "# if user selects yes, allow user to choose directory and then output the selected directory \n",
    "if state_1 == True:\n",
    "    print(\"Recursive selection\")\n",
    "    directory = getPath()\n",
    "    mode = \"recursive\"\n",
    "    \n",
    "# keep 2 for step size to skip over time text files    \n",
    "    for i in range(0, len(directory), 2):\n",
    "#         print(files[i])\n",
    "        data_file = directory[i]\n",
    "        df = single_cycle_plot(data_file)\n",
    "        cycle_arrays = indiv_cycles(df)\n",
    "        pinned_arrays = zero_pinned(cycle_arrays)\n",
    "        double_pinned_arrays = double_pinned(pinned_arrays)\n",
    "        \n",
    "        double_pinned_arrays_x = double_pinned_arrays[0]\n",
    "        double_pinned_arrays_y = double_pinned_arrays[1]\n",
    "        \n",
    "        plateau_avgs = mean_height(double_pinned_arrays_y)\n",
    "        rising_slope = slope(double_pinned_arrays_x, double_pinned_arrays_y)\n",
    "        width_metrics = width_stats(double_pinned_arrays_y)\n",
    "        # comment out if do the full \n",
    "#         stop = messagebox.askyesno(\"Pause?\",\"Continue with next file?\")\n",
    "#         if stop == False:\n",
    "#             break\n",
    "        \n",
    "    \n",
    "    \n",
    "# if user selects no, go into manual mode\n",
    "else:\n",
    "    print(\"Manual selection\")\n",
    "    state_1 = False\n",
    "    mode = \"manual\"\n",
    "\n",
    "    # once in manual mode, allow user to select a file and then ask if they want to select another\n",
    "    while state_1 == False:\n",
    "        data_file = getFilename()\n",
    "\n",
    "        df = single_cycle_plot(data_file)\n",
    "        cycle_arrays = indiv_cycles(df)\n",
    "        pinned_arrays = zero_pinned(cycle_arrays)\n",
    "        double_pinned_arrays = double_pinned(pinned_arrays)\n",
    "        \n",
    "        double_pinned_arrays_x = double_pinned_arrays[0]\n",
    "        double_pinned_arrays_y = double_pinned_arrays[1]\n",
    "        \n",
    "        plateau_avgs = mean_height(double_pinned_arrays_y)\n",
    "        rising_slope = slope(double_pinned_arrays_x, double_pinned_arrays_y)\n",
    "        width_metrics = width_stats(double_pinned_arrays_y)\n",
    "        \n",
    "        another_file = messagebox.askyesno(\"Another file?\",\"Continue with next file?\")\n",
    "\n",
    "        if another_file == False:\n",
    "            state_1 = True\n"
   ]
  },
  {
   "cell_type": "code",
   "execution_count": null,
   "id": "2285733e",
   "metadata": {},
   "outputs": [],
   "source": []
  },
  {
   "cell_type": "code",
   "execution_count": null,
   "id": "d9d3a813",
   "metadata": {},
   "outputs": [],
   "source": []
  },
  {
   "cell_type": "code",
   "execution_count": null,
   "id": "5628fcf1",
   "metadata": {},
   "outputs": [],
   "source": []
  },
  {
   "cell_type": "code",
   "execution_count": null,
   "id": "42c17cd0",
   "metadata": {
    "ExecuteTime": {
     "end_time": "2021-09-23T06:19:06.618696Z",
     "start_time": "2021-09-23T06:19:06.618696Z"
    }
   },
   "outputs": [],
   "source": [
    "sns.set_style('darkgrid')\n",
    "ax = sns.histplot(plateau_avgs)\n",
    "ax.locator_params(axis='y', integer=True);"
   ]
  },
  {
   "cell_type": "code",
   "execution_count": null,
   "id": "192b5158",
   "metadata": {
    "ExecuteTime": {
     "end_time": "2021-09-23T06:19:06.620691Z",
     "start_time": "2021-09-23T06:19:06.620691Z"
    }
   },
   "outputs": [],
   "source": [
    "sns.set_style('darkgrid')\n",
    "ax = sns.boxplot(x=plateau_avgs);\n",
    "# ax.xaxis.set_major_locator(ticker.MultipleLocator())\n",
    "# ax.xaxis.set_major_formatter(ticker.ScalarFormatter());"
   ]
  },
  {
   "cell_type": "markdown",
   "id": "7bdbc351",
   "metadata": {},
   "source": [
    "This 'for loop' captures the mean value of each cycle's plateau."
   ]
  },
  {
   "cell_type": "code",
   "execution_count": null,
   "id": "ebaeb8d5",
   "metadata": {
    "ExecuteTime": {
     "end_time": "2021-09-23T06:19:06.621688Z",
     "start_time": "2021-09-23T06:19:06.621688Z"
    }
   },
   "outputs": [],
   "source": [
    "mean = sum(plateau_avgs) / len(plateau_avgs)\n",
    "variance = sum([((x - mean) ** 2) for x in plateau_avgs]) / len(plateau_avgs)\n",
    "std_dev = variance ** 0.5\n",
    "std_dev"
   ]
  },
  {
   "cell_type": "markdown",
   "id": "622bf57b",
   "metadata": {},
   "source": [
    "For this sample, there is a very small standard deviation, demonstrating a tight range during this portion of each cycle."
   ]
  },
  {
   "cell_type": "code",
   "execution_count": null,
   "id": "3cca0baa",
   "metadata": {
    "ExecuteTime": {
     "end_time": "2021-09-23T06:19:06.625677Z",
     "start_time": "2021-09-23T06:19:06.625677Z"
    }
   },
   "outputs": [],
   "source": [
    "sns.set_style('darkgrid')\n",
    "ax = sns.histplot(width_15, discrete=True)\n",
    "ax.locator_params(axis='x', integer=True)\n",
    "ax.locator_params(axis='y', integer=True);"
   ]
  },
  {
   "cell_type": "code",
   "execution_count": null,
   "id": "8da0e59a",
   "metadata": {
    "ExecuteTime": {
     "end_time": "2021-09-23T06:19:06.626674Z",
     "start_time": "2021-09-23T06:19:06.626674Z"
    }
   },
   "outputs": [],
   "source": [
    "sns.set_style('darkgrid')\n",
    "ax = sns.boxplot(x=width_15);"
   ]
  },
  {
   "cell_type": "code",
   "execution_count": null,
   "id": "c669aab1",
   "metadata": {
    "ExecuteTime": {
     "end_time": "2021-09-23T06:19:06.630664Z",
     "start_time": "2021-09-23T06:19:06.630664Z"
    }
   },
   "outputs": [],
   "source": [
    "sns.set_style('darkgrid')\n",
    "ax = sns.histplot(width_30, discrete=True)\n",
    "ax.locator_params(axis='x', integer=True)\n",
    "ax.locator_params(axis='y', integer=True);"
   ]
  },
  {
   "cell_type": "code",
   "execution_count": null,
   "id": "6acb0236",
   "metadata": {
    "ExecuteTime": {
     "end_time": "2021-09-23T06:19:06.631662Z",
     "start_time": "2021-09-23T06:19:06.631662Z"
    }
   },
   "outputs": [],
   "source": [
    "sns.set_style('darkgrid')\n",
    "ax = sns.boxplot(x=width_30)\n",
    "ax.xaxis.set_major_locator(ticker.MultipleLocator())\n",
    "ax.xaxis.set_major_formatter(ticker.ScalarFormatter());"
   ]
  },
  {
   "cell_type": "code",
   "execution_count": null,
   "id": "fc73fa0b",
   "metadata": {
    "ExecuteTime": {
     "end_time": "2021-09-23T06:19:06.635650Z",
     "start_time": "2021-09-23T06:19:06.635650Z"
    }
   },
   "outputs": [],
   "source": [
    "sns.set_style('darkgrid')\n",
    "ax = sns.histplot(width_45, discrete=True)\n",
    "ax.locator_params(axis='x', integer=True)\n",
    "ax.locator_params(axis='y', integer=True);"
   ]
  },
  {
   "cell_type": "code",
   "execution_count": null,
   "id": "abc65662",
   "metadata": {
    "ExecuteTime": {
     "end_time": "2021-09-23T06:19:06.636648Z",
     "start_time": "2021-09-23T06:19:06.636648Z"
    }
   },
   "outputs": [],
   "source": [
    "sns.set_style('darkgrid')\n",
    "ax = sns.boxplot(x=width_45)\n",
    "ax.xaxis.set_major_locator(ticker.MultipleLocator())\n",
    "ax.xaxis.set_major_formatter(ticker.ScalarFormatter());"
   ]
  },
  {
   "cell_type": "code",
   "execution_count": null,
   "id": "f8b9002d",
   "metadata": {
    "ExecuteTime": {
     "end_time": "2021-09-23T06:19:06.640637Z",
     "start_time": "2021-09-23T06:19:06.640637Z"
    }
   },
   "outputs": [],
   "source": [
    "sns.set_style('darkgrid')\n",
    "ax = sns.histplot(width_50, discrete=True)\n",
    "ax.locator_params(axis='x', integer=True)\n",
    "ax.locator_params(axis='y', integer=True);"
   ]
  },
  {
   "cell_type": "code",
   "execution_count": null,
   "id": "87094753",
   "metadata": {
    "ExecuteTime": {
     "end_time": "2021-09-23T06:19:06.642632Z",
     "start_time": "2021-09-23T06:19:06.642632Z"
    }
   },
   "outputs": [],
   "source": [
    "sns.set_style('darkgrid')\n",
    "ax = sns.boxplot(x=width_50)\n",
    "ax.xaxis.set_major_locator(ticker.MultipleLocator())\n",
    "ax.xaxis.set_major_formatter(ticker.ScalarFormatter());"
   ]
  },
  {
   "cell_type": "code",
   "execution_count": null,
   "id": "d8064b3c",
   "metadata": {
    "ExecuteTime": {
     "end_time": "2021-09-23T06:19:06.642632Z",
     "start_time": "2021-09-23T06:19:06.642632Z"
    }
   },
   "outputs": [],
   "source": []
  },
  {
   "cell_type": "code",
   "execution_count": null,
   "id": "923d5f98",
   "metadata": {
    "ExecuteTime": {
     "end_time": "2021-09-23T06:19:06.646621Z",
     "start_time": "2021-09-23T06:19:06.646621Z"
    }
   },
   "outputs": [],
   "source": [
    "sns.set_style('darkgrid')\n",
    "ax = sns.histplot(width_65, discrete=True)\n",
    "ax.locator_params(axis='x', integer=True)\n",
    "ax.locator_params(axis='y', integer=True);"
   ]
  },
  {
   "cell_type": "code",
   "execution_count": null,
   "id": "74b303fc",
   "metadata": {
    "ExecuteTime": {
     "end_time": "2021-09-23T06:19:06.647621Z",
     "start_time": "2021-09-23T06:19:06.647621Z"
    }
   },
   "outputs": [],
   "source": [
    "sns.set_style('darkgrid')\n",
    "ax = sns.boxplot(x=width_65)\n",
    "ax.xaxis.set_major_locator(ticker.MultipleLocator())\n",
    "ax.xaxis.set_major_formatter(ticker.ScalarFormatter());"
   ]
  },
  {
   "cell_type": "code",
   "execution_count": null,
   "id": "8bba3e3b",
   "metadata": {
    "ExecuteTime": {
     "end_time": "2021-09-23T06:19:06.651610Z",
     "start_time": "2021-09-23T06:19:06.651610Z"
    }
   },
   "outputs": [],
   "source": [
    "sns.set_style('darkgrid')\n",
    "ax = sns.histplot(width_80, discrete=True)\n",
    "ax.locator_params(axis='x', integer=True)\n",
    "ax.locator_params(axis='y', integer=True);"
   ]
  },
  {
   "cell_type": "code",
   "execution_count": null,
   "id": "31ed3fe4",
   "metadata": {
    "ExecuteTime": {
     "end_time": "2021-09-23T06:19:06.653604Z",
     "start_time": "2021-09-23T06:19:06.653604Z"
    }
   },
   "outputs": [],
   "source": [
    "sns.set_style('darkgrid')\n",
    "ax = sns.boxplot(x=width_80)\n",
    "ax.xaxis.set_major_locator(ticker.MultipleLocator())\n",
    "ax.xaxis.set_major_formatter(ticker.ScalarFormatter());"
   ]
  },
  {
   "cell_type": "code",
   "execution_count": null,
   "id": "2c4d4ff9",
   "metadata": {
    "ExecuteTime": {
     "end_time": "2021-09-23T06:19:06.654602Z",
     "start_time": "2021-09-23T06:19:06.654602Z"
    }
   },
   "outputs": [],
   "source": [
    "averages"
   ]
  },
  {
   "cell_type": "markdown",
   "id": "725122ee",
   "metadata": {},
   "source": [
    "The averages array (see above) contains the mean height of each sample as well as the width measurements at 15%, 30%, 45%, 50%, 65%, and 80%."
   ]
  },
  {
   "cell_type": "code",
   "execution_count": null,
   "id": "007d934a",
   "metadata": {
    "ExecuteTime": {
     "end_time": "2021-09-23T06:19:06.655598Z",
     "start_time": "2021-09-23T06:19:06.655598Z"
    }
   },
   "outputs": [],
   "source": [
    "overall_avg = []\n",
    "for i in averages:\n",
    "    overall_avg.append(sum(i) / len(i))\n",
    "overall_avg"
   ]
  },
  {
   "cell_type": "code",
   "execution_count": null,
   "id": "f58f5a97",
   "metadata": {
    "ExecuteTime": {
     "end_time": "2021-09-23T06:19:06.657594Z",
     "start_time": "2021-09-23T06:19:06.657594Z"
    }
   },
   "outputs": [],
   "source": [
    "# export all metrics into a csv \n",
    "\n",
    "# first create a dictionary of the width metrics\n",
    "width_metrics = {'mean_height':plateau_avgs, 'width_15': width_15, 'width_30': width_30, 'width_45': width_45, \n",
    "                 'width_50': width_50, 'width_65':width_65, 'width_80':width_80}"
   ]
  },
  {
   "cell_type": "code",
   "execution_count": null,
   "id": "754eae3a",
   "metadata": {
    "ExecuteTime": {
     "end_time": "2021-09-23T06:19:06.658591Z",
     "start_time": "2021-09-23T06:19:06.658591Z"
    }
   },
   "outputs": [],
   "source": [
    "width_metrics = pd.DataFrame(width_metrics)\n",
    "width_metrics"
   ]
  },
  {
   "cell_type": "code",
   "execution_count": null,
   "id": "e02c2239",
   "metadata": {
    "ExecuteTime": {
     "end_time": "2021-09-23T06:19:06.659588Z",
     "start_time": "2021-09-23T06:19:06.659588Z"
    }
   },
   "outputs": [],
   "source": [
    "width_metrics.loc['mean'] = width_metrics.mean()\n",
    "width_metrics[[\"width_15\", \"width_30\", \"width_45\", \"width_50\", \"width_65\", \"width_80\"]] = width_metrics[[\"width_15\", \"width_30\", \"width_45\", \n",
    "                                                                                                         \"width_50\", \"width_65\", \"width_80\"]].astype(int)\n",
    "width_metrics"
   ]
  },
  {
   "cell_type": "code",
   "execution_count": null,
   "id": "da56f70e",
   "metadata": {
    "ExecuteTime": {
     "end_time": "2021-09-23T06:19:06.660584Z",
     "start_time": "2021-09-23T06:19:06.660584Z"
    }
   },
   "outputs": [],
   "source": [
    "# consolidate all of the metrics above into a single function and output like below\n",
    "\n",
    "width_metrics.to_csv('width_metrics.csv')"
   ]
  },
  {
   "cell_type": "markdown",
   "id": "77b2b334",
   "metadata": {},
   "source": [
    "# OLD CODE TO DELETE"
   ]
  },
  {
   "cell_type": "markdown",
   "id": "36d21613",
   "metadata": {},
   "source": [
    "Pseudo Code for Recursive Scan of Directory and then apply Visual/Metric building function to those files:     \n",
    "1) Go into a given directory and build a list of files   \n",
    "    Use tkinter to offer option to select one file at a time (manual option) or to go through entire directory (recursive option)  \n",
    "    Like Daren did in his code below, this will require a function that uses for loops that work off the answer from message box  \n",
    "    Also requires a pause option to review after processing a data file    \n",
    "    \n",
    "2) Compile the code that builds the plots and creates the width metrics for the cycles into a single function (or maybe a few shorter ones)   \n",
    "    Apply those functions to the list of files created above   \n",
    "    Output the metrics to a csv or txt file    \n",
    "    Output plots to pngs  "
   ]
  },
  {
   "cell_type": "code",
   "execution_count": null,
   "id": "8cc03a45",
   "metadata": {
    "ExecuteTime": {
     "end_time": "2021-09-23T06:19:06.567833Z",
     "start_time": "2021-09-23T06:19:06.567833Z"
    }
   },
   "outputs": [],
   "source": [
    "df = pd.read_csv(r'../Data/U44_Raw.txt', names=['y'])\n",
    "df.to_csv('../Data/test_data_1.csv')"
   ]
  },
  {
   "cell_type": "markdown",
   "id": "7178d46f",
   "metadata": {},
   "source": [
    "# Exploratory Data Analysis"
   ]
  },
  {
   "cell_type": "code",
   "execution_count": null,
   "id": "e5f78e62",
   "metadata": {
    "ExecuteTime": {
     "end_time": "2021-09-23T06:19:06.568830Z",
     "start_time": "2021-09-23T06:19:06.568830Z"
    }
   },
   "outputs": [],
   "source": [
    "df.head(10)"
   ]
  },
  {
   "cell_type": "code",
   "execution_count": null,
   "id": "d5f0be34",
   "metadata": {
    "ExecuteTime": {
     "end_time": "2021-09-23T06:19:06.570824Z",
     "start_time": "2021-09-23T06:19:06.570824Z"
    }
   },
   "outputs": [],
   "source": [
    "df.shape"
   ]
  },
  {
   "cell_type": "code",
   "execution_count": null,
   "id": "b4e495ec",
   "metadata": {
    "ExecuteTime": {
     "end_time": "2021-09-23T06:19:06.571821Z",
     "start_time": "2021-09-23T06:19:06.571821Z"
    }
   },
   "outputs": [],
   "source": [
    "sns.set_style(\"dark\")\n",
    "plt.figure(figsize = (12, 5))\n",
    "\n",
    "cycle = df.iloc[:700]\n",
    "\n",
    "plt.plot(cycle)"
   ]
  },
  {
   "cell_type": "code",
   "execution_count": null,
   "id": "03d32064",
   "metadata": {
    "ExecuteTime": {
     "end_time": "2021-09-23T06:19:06.572818Z",
     "start_time": "2021-09-23T06:19:06.572818Z"
    }
   },
   "outputs": [],
   "source": [
    "sns.set_style(\"dark\")\n",
    "plt.figure(figsize = (15, 5))\n",
    "\n",
    "plt.plot(df)\n",
    "plt.title(\"All Cycles\", fontsize=20,fontweight=0, color='orange');"
   ]
  },
  {
   "cell_type": "code",
   "execution_count": null,
   "id": "3e8d007a",
   "metadata": {
    "ExecuteTime": {
     "end_time": "2021-09-23T06:19:06.573816Z",
     "start_time": "2021-09-23T06:19:06.573816Z"
    }
   },
   "outputs": [],
   "source": [
    "data_list = df['y'].to_list()\n",
    "cycle_arrays = np.array_split(data_list, 30)\n",
    "len(cycle_arrays)"
   ]
  },
  {
   "cell_type": "code",
   "execution_count": null,
   "id": "cc4cbe59",
   "metadata": {
    "ExecuteTime": {
     "end_time": "2021-09-23T06:19:06.574813Z",
     "start_time": "2021-09-23T06:19:06.574813Z"
    }
   },
   "outputs": [],
   "source": [
    "n = 700\n",
    "cycle_arrays = [data_list[i: i +n] for i in range(0, len(data_list), n)]\n",
    "\n",
    "len(cycle_arrays)"
   ]
  },
  {
   "cell_type": "code",
   "execution_count": null,
   "id": "8472b85a",
   "metadata": {
    "ExecuteTime": {
     "end_time": "2021-09-23T06:19:06.575811Z",
     "start_time": "2021-09-23T06:19:06.575811Z"
    }
   },
   "outputs": [],
   "source": [
    "cycle_arrays"
   ]
  },
  {
   "cell_type": "code",
   "execution_count": null,
   "id": "fa43ee58",
   "metadata": {
    "ExecuteTime": {
     "end_time": "2021-09-23T06:19:06.577806Z",
     "start_time": "2021-09-23T06:19:06.577806Z"
    }
   },
   "outputs": [],
   "source": [
    "df['x'] = range(21000)\n",
    "x_list = df['x'].to_list()\n",
    "x_arrays = np.array_split(x_list, 30)"
   ]
  },
  {
   "cell_type": "code",
   "execution_count": null,
   "id": "61395f66",
   "metadata": {
    "ExecuteTime": {
     "end_time": "2021-09-23T06:19:06.579801Z",
     "start_time": "2021-09-23T06:19:06.578804Z"
    }
   },
   "outputs": [],
   "source": [
    "df['x'] = range(0,len(df))\n",
    "df['x']\n",
    "x_list = df['x'].to_list()\n",
    "\n",
    "n = 700\n",
    "x_list = [x_list[i: i + n] for i in range(0, len(x_list), n)]\n",
    "x_list"
   ]
  },
  {
   "cell_type": "code",
   "execution_count": null,
   "id": "d3ae2af6",
   "metadata": {
    "ExecuteTime": {
     "end_time": "2021-09-23T06:19:06.580798Z",
     "start_time": "2021-09-23T06:19:06.580798Z"
    }
   },
   "outputs": [],
   "source": [
    "sns.set_style(\"dark\")\n",
    "plt.figure(figsize = (12, 5))\n",
    "\n",
    "cycles_mean = np.mean(cycle_arrays, axis=0)\n",
    "\n",
    "plt.plot(cycles_mean)\n",
    "plt.title(\"Mean of Cycles (No Adjustment)\", fontsize=20,fontweight=0, color='orange');"
   ]
  },
  {
   "cell_type": "markdown",
   "id": "f9dc7dcf",
   "metadata": {},
   "source": [
    "Here is the mean of all signals 30 signals, captured in its own plot. Now, let's add the mean to the rest of the plots to highlight the noise in the signals."
   ]
  },
  {
   "cell_type": "code",
   "execution_count": null,
   "id": "a0f35726",
   "metadata": {
    "ExecuteTime": {
     "end_time": "2021-09-23T06:19:06.581799Z",
     "start_time": "2021-09-23T06:19:06.581799Z"
    }
   },
   "outputs": [],
   "source": [
    "cycle_arrays.append(cycles_mean)\n",
    "cycle_arrays"
   ]
  },
  {
   "cell_type": "code",
   "execution_count": null,
   "id": "7faa4fa1",
   "metadata": {
    "ExecuteTime": {
     "end_time": "2021-09-23T06:19:06.582794Z",
     "start_time": "2021-09-23T06:19:06.582794Z"
    }
   },
   "outputs": [],
   "source": [
    "len(cycle_arrays)"
   ]
  },
  {
   "cell_type": "code",
   "execution_count": null,
   "id": "1684cb16",
   "metadata": {
    "ExecuteTime": {
     "end_time": "2021-09-23T06:19:06.584789Z",
     "start_time": "2021-09-23T06:19:06.584789Z"
    }
   },
   "outputs": [],
   "source": [
    "sns.set_style(\"dark\")\n",
    "plt.figure(figsize = (12, 5))\n",
    "\n",
    "for i in range(len(cycle_arrays)):\n",
    "    plt.plot(cycle_arrays[i])\n",
    "    \n",
    "plt.title(\"All Cycles (No Adjustment)\", fontsize=20,fontweight=0, color='orange');"
   ]
  },
  {
   "cell_type": "code",
   "execution_count": null,
   "id": "ab61cf37",
   "metadata": {},
   "outputs": [],
   "source": []
  },
  {
   "cell_type": "code",
   "execution_count": null,
   "id": "e7114d43",
   "metadata": {
    "ExecuteTime": {
     "end_time": "2021-09-23T06:19:06.586782Z",
     "start_time": "2021-09-23T06:19:06.586782Z"
    }
   },
   "outputs": [],
   "source": [
    "sns.set_style(\"dark\")\n",
    "plt.figure(figsize = (12, 5))\n",
    "\n",
    "for i in range(len(cycle_arrays)):\n",
    "    plt.plot(cycle_arrays[i], marker='', color='grey', linewidth=4, alpha=0.4)\n",
    "    \n",
    "plt.plot(cycle_arrays[-1], marker='', color='orange', linewidth=4, alpha=0.7)\n",
    "plt.title(\"All Cycles (Mean Cycle Highlighted)\", fontsize=20,fontweight=0, color='orange');"
   ]
  },
  {
   "cell_type": "code",
   "execution_count": null,
   "id": "68fce9c8",
   "metadata": {
    "ExecuteTime": {
     "end_time": "2021-09-23T06:19:06.587779Z",
     "start_time": "2021-09-23T06:19:06.587779Z"
    }
   },
   "outputs": [],
   "source": [
    "plt.figure(figsize = (15, 5))\n",
    "\n",
    "for i in range(len(cycle_arrays)):\n",
    "    cycle_arrays[i] = cycle_arrays[i] - cycle_arrays[i][0]\n",
    "    plt.plot(cycle_arrays[i])\n",
    "    \n",
    "plt.title(\"All Cycles (Origin Pinned)\", fontsize=20,fontweight=0, color='orange');"
   ]
  },
  {
   "cell_type": "code",
   "execution_count": null,
   "id": "7d735dc9",
   "metadata": {
    "ExecuteTime": {
     "end_time": "2021-09-23T06:19:06.588777Z",
     "start_time": "2021-09-23T06:19:06.588777Z"
    }
   },
   "outputs": [],
   "source": [
    "plt.figure(figsize = (15, 5))\n",
    "\n",
    "for i in range(len(cycle_arrays)):\n",
    "    cycle_arrays[i] = cycle_arrays[i] - cycle_arrays[i][0]\n",
    "    plt.plot(cycle_arrays[i], marker='', color='grey', linewidth=4, alpha=0.4)\n",
    "    \n",
    "plt.plot(cycle_arrays[-1], marker='', color='orange', linewidth=2, alpha=0.7)    \n",
    "plt.title(\"All Cycles (Origin Pinned & Mean Highlighted)\", fontsize=20, fontweight=0, color='orange');"
   ]
  },
  {
   "cell_type": "markdown",
   "id": "cfa1a784",
   "metadata": {},
   "source": [
    "Pseudo-code for the function below:\n",
    "\n",
    "Main objectives:  \n",
    "\n",
    "Iterate through each of the 30 cycles of a raw data sample and make each one end at zero.  \n",
    "\n",
    "Create a while loop that determines if the cycle needs to be adjusted clockwise, counter-clockwise, or not at all.  \n",
    "\n",
    "Plot each of the adjusted cycles on the same figure."
   ]
  },
  {
   "cell_type": "code",
   "execution_count": null,
   "id": "b6e70441",
   "metadata": {
    "ExecuteTime": {
     "end_time": "2021-09-23T06:19:06.589774Z",
     "start_time": "2021-09-23T06:19:06.589774Z"
    }
   },
   "outputs": [],
   "source": [
    "cycle_arrays.pop()"
   ]
  },
  {
   "cell_type": "code",
   "execution_count": null,
   "id": "3375791b",
   "metadata": {
    "ExecuteTime": {
     "end_time": "2021-09-23T06:19:06.590771Z",
     "start_time": "2021-09-23T06:19:06.590771Z"
    }
   },
   "outputs": [],
   "source": [
    "len(cycle_arrays)"
   ]
  },
  {
   "cell_type": "markdown",
   "id": "a1ef59a3",
   "metadata": {},
   "source": [
    "## With average shown"
   ]
  },
  {
   "cell_type": "code",
   "execution_count": 115,
   "id": "9704e892",
   "metadata": {
    "ExecuteTime": {
     "end_time": "2021-09-29T23:08:44.736295Z",
     "start_time": "2021-09-29T23:08:44.662234Z"
    }
   },
   "outputs": [
    {
     "ename": "NameError",
     "evalue": "name 'x_list' is not defined",
     "output_type": "error",
     "traceback": [
      "\u001b[1;31m---------------------------------------------------------------------------\u001b[0m",
      "\u001b[1;31mNameError\u001b[0m                                 Traceback (most recent call last)",
      "\u001b[1;32m~\\AppData\\Local\\Temp/ipykernel_14372/1130367823.py\u001b[0m in \u001b[0;36m<module>\u001b[1;34m\u001b[0m\n\u001b[0;32m      4\u001b[0m \u001b[1;31m# df = pd.read_csv(r'../Data/U44_Raw.txt', names=['y']) >>> need to do this programmatically instead of hardcoded\u001b[0m\u001b[1;33m\u001b[0m\u001b[1;33m\u001b[0m\u001b[1;33m\u001b[0m\u001b[0m\n\u001b[0;32m      5\u001b[0m \u001b[1;33m\u001b[0m\u001b[0m\n\u001b[1;32m----> 6\u001b[1;33m \u001b[0mnew_cycle_array_x\u001b[0m \u001b[1;33m=\u001b[0m \u001b[0mnp\u001b[0m\u001b[1;33m.\u001b[0m\u001b[0marray_split\u001b[0m\u001b[1;33m(\u001b[0m\u001b[0mx_list\u001b[0m\u001b[1;33m,\u001b[0m \u001b[1;36m30\u001b[0m\u001b[1;33m)\u001b[0m\u001b[1;33m\u001b[0m\u001b[1;33m\u001b[0m\u001b[0m\n\u001b[0m\u001b[0;32m      7\u001b[0m \u001b[0mnew_cycle_array_y\u001b[0m \u001b[1;33m=\u001b[0m \u001b[0mnp\u001b[0m\u001b[1;33m.\u001b[0m\u001b[0marray_split\u001b[0m\u001b[1;33m(\u001b[0m\u001b[0mdata_list\u001b[0m\u001b[1;33m,\u001b[0m \u001b[1;36m30\u001b[0m\u001b[1;33m)\u001b[0m\u001b[1;33m\u001b[0m\u001b[1;33m\u001b[0m\u001b[0m\n\u001b[0;32m      8\u001b[0m \u001b[1;33m\u001b[0m\u001b[0m\n",
      "\u001b[1;31mNameError\u001b[0m: name 'x_list' is not defined"
     ]
    }
   ],
   "source": [
    "# turn this into a function, save plot output to png\n",
    "\n",
    "# def adjust_cycles(df):\n",
    "# df = pd.read_csv(r'../Data/U44_Raw.txt', names=['y']) >>> need to do this programmatically instead of hardcoded\n",
    "\n",
    "new_cycle_array_x = np.array_split(x_list, 30)\n",
    "new_cycle_array_y = np.array_split(data_list, 30)\n",
    "\n",
    "for n in range(0, len(cycle_arrays)):\n",
    "    cycle_arrays[n] = cycle_arrays[n] - cycle_arrays[n][0]\n",
    "#     print('n', n)\n",
    "\n",
    "# for i in range(0, len(cycle_arrays[n])):  \n",
    "#     print(\"\\n>>> Starting rotation correction\")\n",
    "\n",
    "    # Empty lists \n",
    "    new_x = []\n",
    "    new_y = []\n",
    "    new_xp = []\n",
    "    new_yp = []\n",
    "\n",
    "    angle_step = 0\n",
    "\n",
    "    rad = angle_step * math.pi/180\n",
    "\n",
    "    '''For loop to pin each cycle to the origin and create list of the last value in each cycle'''\n",
    "\n",
    "    new_y = cycle_arrays[n]\n",
    "    end_yp = new_y[699]\n",
    "\n",
    "    for i in range(0, len(new_y)):\n",
    "        new_x.append(i)\n",
    "        new_xp.append(i)\n",
    "        new_yp.append(i)\n",
    "\n",
    "    '''While loop to adjust cycle depending on its last value...'''\n",
    "\n",
    "    '''Clockwise adjustment if cycle ends above 0 (postive value)'''\n",
    "\n",
    "    if end_yp > 0:\n",
    "#         print(\"Signal correction needed is clockwise\")\n",
    "        while end_yp > 0.0:\n",
    "            for i in range(0, len(new_y)):\n",
    "                xp =  new_x[i] * math.cos(rad) + new_y[i] * math.sin(rad)\n",
    "                yp = -new_x[i] * math.sin(rad) + new_y[i] * math.cos(rad)\n",
    "                new_xp[i] = xp\n",
    "                new_yp[i] = yp\n",
    "                end_yp = yp\n",
    "\n",
    "            angle_step = angle_step + 0.0000001\n",
    "            rad = angle_step * math.pi/180\n",
    "#         print(\">>>Cycle Rotated Clockwise\")\n",
    "#         print(\">>>beginning - last value in new_y:\", round(new_y[698], 6))\n",
    "#         print(\">>>ending end_yp:\", round(end_yp, 6))\n",
    "#         print(\">>>angle:\", round(angle_step, 6))\n",
    "\n",
    "\n",
    "    elif end_yp < 0:\n",
    "#         print(\"Signal correction needed is counter-clockwise\")\n",
    "        while end_yp < 0.0:\n",
    "            for i in range(0, len(new_y)):\n",
    "                xp =  new_x[i] * math.cos(rad) + new_y[i] * math.sin(rad)\n",
    "                yp = -new_x[i] * math.sin(rad) + new_y[i] * math.cos(rad)\n",
    "                new_xp[i] = xp\n",
    "                new_yp[i] = yp\n",
    "                end_yp = yp\n",
    "\n",
    "            angle_step = angle_step - 0.0000001\n",
    "            rad = angle_step * math.pi/180\n",
    "#         print(\">>>Cycle Rotated Counter-Clockwise\")\n",
    "#         print(\">>>beginning - last value in new_y:\", round(new_y[698], 6))\n",
    "#         print(\">>>ending end_yp:\", round(end_yp, 6))\n",
    "#         print(\">>>angle:\", round(angle_step, 6))\n",
    "\n",
    "    else:\n",
    "#         print(\">>>No Cycle Rotation Needed\")  \n",
    "        new_xp = new_x\n",
    "        new_yp = new_y\n",
    "\n",
    "    new_cycle_array_x[n] = new_xp \n",
    "    new_cycle_array_y[n] = new_yp\n",
    "#     print(n)\n",
    "#     print('new cycle array x[n]', new_cycle_array_x[n][0], new_xp[0])\n",
    "#     print('new cycle array y[n]', new_cycle_array_y[n][0], new_yp[0])\n",
    "    \n",
    "    sns.set_style(\"dark\")\n",
    "    plt.rcParams[\"figure.figsize\"] = (20,10)\n",
    "\n",
    "    plt.plot(new_cycle_array_x[n], new_cycle_array_y[n], marker='', color='grey', linewidth=4, alpha=0.4)\n",
    "\n",
    "plt.plot(new_cycle_array_y[-1], marker='', color='orange', linewidth=2, alpha=0.7) \n",
    "\n",
    "plt.savefig('adjusted_cycles_highlighted_mean.png')"
   ]
  },
  {
   "cell_type": "code",
   "execution_count": null,
   "id": "e069ccd1",
   "metadata": {
    "ExecuteTime": {
     "end_time": "2021-09-23T06:19:06.595758Z",
     "start_time": "2021-09-23T06:19:06.595758Z"
    }
   },
   "outputs": [],
   "source": [
    "# save output to png\n",
    "\n",
    "sns.set_style(\"dark\")\n",
    "\n",
    "for n in range(0, len(cycle_arrays)):\n",
    "    xp = []\n",
    "    for i in range(0, len(new_cycle_array_x[n])):\n",
    "        xp.append(new_cycle_array_x[n][i] + 700 * n)\n",
    "\n",
    "#     print('new cycle array x[n]', new_cycle_array_x[n][0], new_xp[0])\n",
    "#     print('new cycle array y[n] 2', new_cycle_array_y[n][0], new_yp[0])\n",
    "    plt.plot(xp, new_cycle_array_y[n])\n",
    "\n",
    "plt.savefig('adjusted_cycles_connected.png')"
   ]
  },
  {
   "cell_type": "code",
   "execution_count": null,
   "id": "35821be6",
   "metadata": {
    "ExecuteTime": {
     "end_time": "2021-09-23T06:19:06.596755Z",
     "start_time": "2021-09-23T06:19:06.596755Z"
    }
   },
   "outputs": [],
   "source": [
    "# for every value of y at given index in rising list, find the corresponding value of x\n",
    "# for every value of y at given index in falling list, find the corresponding value of x\n",
    "# subtract those two values of x to find width metric"
   ]
  },
  {
   "cell_type": "markdown",
   "id": "5fae9751",
   "metadata": {},
   "source": [
    "## Test"
   ]
  },
  {
   "cell_type": "code",
   "execution_count": null,
   "id": "8b83ba29",
   "metadata": {
    "ExecuteTime": {
     "end_time": "2021-09-23T06:19:06.597752Z",
     "start_time": "2021-09-23T06:19:06.597752Z"
    }
   },
   "outputs": [],
   "source": [
    "# what index number is the first value to be higher than 0.02 in the rising phase of each cycle?\n",
    "rising_edges = []\n",
    "for n in range(0, len(cycle_arrays)):\n",
    "    rising_edges.append(list(map(lambda x: x > 0.02, new_cycle_array_y[n])).index(True))\n",
    "rising_edges"
   ]
  },
  {
   "cell_type": "code",
   "execution_count": null,
   "id": "d7f5a615",
   "metadata": {
    "ExecuteTime": {
     "end_time": "2021-09-23T06:19:06.598750Z",
     "start_time": "2021-09-23T06:19:06.598750Z"
    }
   },
   "outputs": [],
   "source": [
    "Counter(rising_edges)"
   ]
  },
  {
   "cell_type": "code",
   "execution_count": null,
   "id": "a02713ff",
   "metadata": {
    "ExecuteTime": {
     "end_time": "2021-09-23T06:19:06.599747Z",
     "start_time": "2021-09-23T06:19:06.599747Z"
    }
   },
   "outputs": [],
   "source": [
    "falling_edge_list = []\n",
    "\n",
    "for n in range(0, len(cycle_arrays)):\n",
    "    falling_edge_list.append(list(map(lambda x: x > 0.02, new_cycle_array_y[n][::-1])).index(True))\n",
    "    falling_edges = [700 - i for i in falling_edge_list]\n",
    "\n",
    "falling_edges"
   ]
  },
  {
   "cell_type": "code",
   "execution_count": null,
   "id": "387ad1e9",
   "metadata": {
    "ExecuteTime": {
     "end_time": "2021-09-23T06:19:06.601748Z",
     "start_time": "2021-09-23T06:19:06.601748Z"
    }
   },
   "outputs": [],
   "source": [
    "Counter(falling_edges)"
   ]
  },
  {
   "cell_type": "code",
   "execution_count": null,
   "id": "7699788a",
   "metadata": {
    "ExecuteTime": {
     "end_time": "2021-09-23T06:19:06.603736Z",
     "start_time": "2021-09-23T06:19:06.603736Z"
    }
   },
   "outputs": [],
   "source": [
    "xp_test = []\n",
    "for i in range(0, len(new_cycle_array_x[n])):\n",
    "    xp_test.append(new_cycle_array_x[n][i])"
   ]
  },
  {
   "cell_type": "code",
   "execution_count": null,
   "id": "1ae09a9d",
   "metadata": {
    "ExecuteTime": {
     "end_time": "2021-09-23T06:19:06.604734Z",
     "start_time": "2021-09-23T06:19:06.604734Z"
    }
   },
   "outputs": [],
   "source": [
    "xp_test"
   ]
  },
  {
   "cell_type": "code",
   "execution_count": null,
   "id": "568e91a1",
   "metadata": {
    "ExecuteTime": {
     "end_time": "2021-09-23T06:19:06.605731Z",
     "start_time": "2021-09-23T06:19:06.605731Z"
    }
   },
   "outputs": [],
   "source": [
    "xp_test[434] - xp_test[131]"
   ]
  },
  {
   "cell_type": "markdown",
   "id": "4be559a0",
   "metadata": {},
   "source": [
    "is the decimal statistically relevant?"
   ]
  },
  {
   "cell_type": "code",
   "execution_count": null,
   "id": "53fae306",
   "metadata": {
    "ExecuteTime": {
     "end_time": "2021-09-23T06:19:06.607725Z",
     "start_time": "2021-09-23T06:19:06.607725Z"
    }
   },
   "outputs": [],
   "source": [
    "width = []\n",
    "\n",
    "zip_object = zip(rising_edges, falling_edges)\n",
    "for rising_edges_i, falling_edges_i in zip_object:\n",
    "    width.append(falling_edges_i - rising_edges_i)\n",
    "\n",
    "print(width)"
   ]
  },
  {
   "cell_type": "code",
   "execution_count": null,
   "id": "1fcaba2c",
   "metadata": {
    "ExecuteTime": {
     "end_time": "2021-09-23T06:19:06.608723Z",
     "start_time": "2021-09-23T06:19:06.608723Z"
    }
   },
   "outputs": [],
   "source": [
    "Counter(width)"
   ]
  },
  {
   "cell_type": "code",
   "execution_count": null,
   "id": "e085cd3c",
   "metadata": {
    "ExecuteTime": {
     "end_time": "2021-09-23T06:19:06.609720Z",
     "start_time": "2021-09-23T06:19:06.609720Z"
    }
   },
   "outputs": [],
   "source": [
    "mean = sum(width) / len(width)\n",
    "variance = sum([((x - mean) ** 2) for x in width]) / len(width)\n",
    "std_dev = variance ** 0.5\n",
    "std_dev"
   ]
  },
  {
   "cell_type": "code",
   "execution_count": null,
   "id": "70b44c7f",
   "metadata": {
    "ExecuteTime": {
     "end_time": "2021-09-23T06:19:06.610717Z",
     "start_time": "2021-09-23T06:19:06.610717Z"
    }
   },
   "outputs": [],
   "source": [
    "sns.set_style('darkgrid')\n",
    "sns.histplot(width, discrete=True);"
   ]
  },
  {
   "cell_type": "code",
   "execution_count": null,
   "id": "72acc23b",
   "metadata": {
    "ExecuteTime": {
     "end_time": "2021-09-23T06:19:06.611715Z",
     "start_time": "2021-09-23T06:19:06.611715Z"
    }
   },
   "outputs": [],
   "source": [
    "sns.set_style('darkgrid')\n",
    "ax = sns.boxplot(width)\n",
    "ax.xaxis.set_major_locator(ticker.MultipleLocator())\n",
    "ax.xaxis.set_major_formatter(ticker.ScalarFormatter())"
   ]
  },
  {
   "cell_type": "code",
   "execution_count": null,
   "id": "d351576d",
   "metadata": {
    "ExecuteTime": {
     "end_time": "2021-09-23T06:19:06.612712Z",
     "start_time": "2021-09-23T06:19:06.612712Z"
    }
   },
   "outputs": [],
   "source": [
    "plt.plot(new_cycle_array_y[0])\n",
    "plt.plot(new_cycle_array_y[1])\n",
    "plt.plot(new_cycle_array_y[2])"
   ]
  }
 ],
 "metadata": {
  "kernelspec": {
   "display_name": "Python 3 (ipykernel)",
   "language": "python",
   "name": "python3"
  },
  "language_info": {
   "codemirror_mode": {
    "name": "ipython",
    "version": 3
   },
   "file_extension": ".py",
   "mimetype": "text/x-python",
   "name": "python",
   "nbconvert_exporter": "python",
   "pygments_lexer": "ipython3",
   "version": "3.9.6"
  },
  "toc": {
   "base_numbering": 1,
   "nav_menu": {},
   "number_sections": true,
   "sideBar": true,
   "skip_h1_title": false,
   "title_cell": "Table of Contents",
   "title_sidebar": "Contents",
   "toc_cell": false,
   "toc_position": {},
   "toc_section_display": true,
   "toc_window_display": false
  }
 },
 "nbformat": 4,
 "nbformat_minor": 5
}
