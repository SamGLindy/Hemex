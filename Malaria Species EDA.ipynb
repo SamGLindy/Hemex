{
 "cells": [
  {
   "cell_type": "code",
   "execution_count": 1,
   "id": "25c0e1ee",
   "metadata": {
    "ExecuteTime": {
     "end_time": "2021-10-12T19:12:01.066810Z",
     "start_time": "2021-10-12T19:11:56.913633Z"
    }
   },
   "outputs": [],
   "source": [
    "import pandas as pd \n",
    "import numpy as np\n",
    "import matplotlib.pyplot as plt\n",
    "import seaborn as sns"
   ]
  },
  {
   "cell_type": "code",
   "execution_count": 2,
   "id": "8128fbf9",
   "metadata": {
    "ExecuteTime": {
     "end_time": "2021-10-12T19:16:16.115696Z",
     "start_time": "2021-10-12T19:16:16.095750Z"
    }
   },
   "outputs": [],
   "source": [
    "pf = pd.read_csv('Pf U44 metrics.csv')\n",
    "pv = pd.read_csv('Pv U38 metrics.csv')"
   ]
  },
  {
   "cell_type": "code",
   "execution_count": 3,
   "id": "fbbbf721",
   "metadata": {
    "ExecuteTime": {
     "end_time": "2021-10-12T19:16:20.009094Z",
     "start_time": "2021-10-12T19:16:19.971198Z"
    }
   },
   "outputs": [
    {
     "data": {
      "text/html": [
       "<div>\n",
       "<style scoped>\n",
       "    .dataframe tbody tr th:only-of-type {\n",
       "        vertical-align: middle;\n",
       "    }\n",
       "\n",
       "    .dataframe tbody tr th {\n",
       "        vertical-align: top;\n",
       "    }\n",
       "\n",
       "    .dataframe thead th {\n",
       "        text-align: right;\n",
       "    }\n",
       "</style>\n",
       "<table border=\"1\" class=\"dataframe\">\n",
       "  <thead>\n",
       "    <tr style=\"text-align: right;\">\n",
       "      <th></th>\n",
       "      <th>cycle_number</th>\n",
       "      <th>rising_edges_15</th>\n",
       "      <th>width_15</th>\n",
       "      <th>rising_edges_30</th>\n",
       "      <th>width_30</th>\n",
       "      <th>rising_edges_45</th>\n",
       "      <th>width_45</th>\n",
       "      <th>rising_edges_50</th>\n",
       "      <th>width_50</th>\n",
       "      <th>rising_edges_65</th>\n",
       "      <th>width_65</th>\n",
       "      <th>rising_edges_80</th>\n",
       "      <th>width_80</th>\n",
       "      <th>rising_slope</th>\n",
       "    </tr>\n",
       "  </thead>\n",
       "  <tbody>\n",
       "    <tr>\n",
       "      <th>0</th>\n",
       "      <td>0</td>\n",
       "      <td>111</td>\n",
       "      <td>349</td>\n",
       "      <td>124</td>\n",
       "      <td>321</td>\n",
       "      <td>131</td>\n",
       "      <td>301</td>\n",
       "      <td>133</td>\n",
       "      <td>296</td>\n",
       "      <td>143</td>\n",
       "      <td>277</td>\n",
       "      <td>153</td>\n",
       "      <td>267</td>\n",
       "      <td>0.000429</td>\n",
       "    </tr>\n",
       "    <tr>\n",
       "      <th>1</th>\n",
       "      <td>1</td>\n",
       "      <td>112</td>\n",
       "      <td>353</td>\n",
       "      <td>124</td>\n",
       "      <td>323</td>\n",
       "      <td>132</td>\n",
       "      <td>302</td>\n",
       "      <td>134</td>\n",
       "      <td>296</td>\n",
       "      <td>144</td>\n",
       "      <td>277</td>\n",
       "      <td>154</td>\n",
       "      <td>267</td>\n",
       "      <td>0.000427</td>\n",
       "    </tr>\n",
       "    <tr>\n",
       "      <th>2</th>\n",
       "      <td>2</td>\n",
       "      <td>113</td>\n",
       "      <td>351</td>\n",
       "      <td>124</td>\n",
       "      <td>322</td>\n",
       "      <td>132</td>\n",
       "      <td>301</td>\n",
       "      <td>134</td>\n",
       "      <td>296</td>\n",
       "      <td>143</td>\n",
       "      <td>277</td>\n",
       "      <td>154</td>\n",
       "      <td>266</td>\n",
       "      <td>0.000430</td>\n",
       "    </tr>\n",
       "    <tr>\n",
       "      <th>3</th>\n",
       "      <td>3</td>\n",
       "      <td>111</td>\n",
       "      <td>350</td>\n",
       "      <td>123</td>\n",
       "      <td>322</td>\n",
       "      <td>131</td>\n",
       "      <td>301</td>\n",
       "      <td>133</td>\n",
       "      <td>296</td>\n",
       "      <td>143</td>\n",
       "      <td>276</td>\n",
       "      <td>153</td>\n",
       "      <td>266</td>\n",
       "      <td>0.000430</td>\n",
       "    </tr>\n",
       "    <tr>\n",
       "      <th>4</th>\n",
       "      <td>4</td>\n",
       "      <td>111</td>\n",
       "      <td>349</td>\n",
       "      <td>123</td>\n",
       "      <td>322</td>\n",
       "      <td>131</td>\n",
       "      <td>301</td>\n",
       "      <td>133</td>\n",
       "      <td>296</td>\n",
       "      <td>143</td>\n",
       "      <td>276</td>\n",
       "      <td>153</td>\n",
       "      <td>266</td>\n",
       "      <td>0.000430</td>\n",
       "    </tr>\n",
       "  </tbody>\n",
       "</table>\n",
       "</div>"
      ],
      "text/plain": [
       "   cycle_number  rising_edges_15  width_15  rising_edges_30  width_30  \\\n",
       "0             0              111       349              124       321   \n",
       "1             1              112       353              124       323   \n",
       "2             2              113       351              124       322   \n",
       "3             3              111       350              123       322   \n",
       "4             4              111       349              123       322   \n",
       "\n",
       "   rising_edges_45  width_45  rising_edges_50  width_50  rising_edges_65  \\\n",
       "0              131       301              133       296              143   \n",
       "1              132       302              134       296              144   \n",
       "2              132       301              134       296              143   \n",
       "3              131       301              133       296              143   \n",
       "4              131       301              133       296              143   \n",
       "\n",
       "   width_65  rising_edges_80  width_80  rising_slope  \n",
       "0       277              153       267      0.000429  \n",
       "1       277              154       267      0.000427  \n",
       "2       277              154       266      0.000430  \n",
       "3       276              153       266      0.000430  \n",
       "4       276              153       266      0.000430  "
      ]
     },
     "execution_count": 3,
     "metadata": {},
     "output_type": "execute_result"
    }
   ],
   "source": [
    "pf.head()"
   ]
  },
  {
   "cell_type": "code",
   "execution_count": 4,
   "id": "39ac73d9",
   "metadata": {
    "ExecuteTime": {
     "end_time": "2021-10-12T19:16:26.261397Z",
     "start_time": "2021-10-12T19:16:26.243440Z"
    }
   },
   "outputs": [
    {
     "data": {
      "text/html": [
       "<div>\n",
       "<style scoped>\n",
       "    .dataframe tbody tr th:only-of-type {\n",
       "        vertical-align: middle;\n",
       "    }\n",
       "\n",
       "    .dataframe tbody tr th {\n",
       "        vertical-align: top;\n",
       "    }\n",
       "\n",
       "    .dataframe thead th {\n",
       "        text-align: right;\n",
       "    }\n",
       "</style>\n",
       "<table border=\"1\" class=\"dataframe\">\n",
       "  <thead>\n",
       "    <tr style=\"text-align: right;\">\n",
       "      <th></th>\n",
       "      <th>cycle_number</th>\n",
       "      <th>rising_edges_15</th>\n",
       "      <th>width_15</th>\n",
       "      <th>rising_edges_30</th>\n",
       "      <th>width_30</th>\n",
       "      <th>rising_edges_45</th>\n",
       "      <th>width_45</th>\n",
       "      <th>rising_edges_50</th>\n",
       "      <th>width_50</th>\n",
       "      <th>rising_edges_65</th>\n",
       "      <th>width_65</th>\n",
       "      <th>rising_edges_80</th>\n",
       "      <th>width_80</th>\n",
       "      <th>rising_slope</th>\n",
       "    </tr>\n",
       "  </thead>\n",
       "  <tbody>\n",
       "    <tr>\n",
       "      <th>0</th>\n",
       "      <td>0</td>\n",
       "      <td>111</td>\n",
       "      <td>332</td>\n",
       "      <td>126</td>\n",
       "      <td>304</td>\n",
       "      <td>134</td>\n",
       "      <td>289</td>\n",
       "      <td>137</td>\n",
       "      <td>283</td>\n",
       "      <td>148</td>\n",
       "      <td>262</td>\n",
       "      <td>155</td>\n",
       "      <td>255</td>\n",
       "      <td>0.000108</td>\n",
       "    </tr>\n",
       "    <tr>\n",
       "      <th>1</th>\n",
       "      <td>1</td>\n",
       "      <td>117</td>\n",
       "      <td>323</td>\n",
       "      <td>129</td>\n",
       "      <td>300</td>\n",
       "      <td>137</td>\n",
       "      <td>284</td>\n",
       "      <td>140</td>\n",
       "      <td>279</td>\n",
       "      <td>148</td>\n",
       "      <td>261</td>\n",
       "      <td>156</td>\n",
       "      <td>253</td>\n",
       "      <td>0.000112</td>\n",
       "    </tr>\n",
       "    <tr>\n",
       "      <th>2</th>\n",
       "      <td>2</td>\n",
       "      <td>119</td>\n",
       "      <td>322</td>\n",
       "      <td>130</td>\n",
       "      <td>299</td>\n",
       "      <td>137</td>\n",
       "      <td>285</td>\n",
       "      <td>140</td>\n",
       "      <td>280</td>\n",
       "      <td>149</td>\n",
       "      <td>261</td>\n",
       "      <td>156</td>\n",
       "      <td>254</td>\n",
       "      <td>0.000112</td>\n",
       "    </tr>\n",
       "    <tr>\n",
       "      <th>3</th>\n",
       "      <td>3</td>\n",
       "      <td>115</td>\n",
       "      <td>331</td>\n",
       "      <td>127</td>\n",
       "      <td>305</td>\n",
       "      <td>136</td>\n",
       "      <td>287</td>\n",
       "      <td>137</td>\n",
       "      <td>284</td>\n",
       "      <td>148</td>\n",
       "      <td>263</td>\n",
       "      <td>155</td>\n",
       "      <td>256</td>\n",
       "      <td>0.000114</td>\n",
       "    </tr>\n",
       "    <tr>\n",
       "      <th>4</th>\n",
       "      <td>4</td>\n",
       "      <td>124</td>\n",
       "      <td>315</td>\n",
       "      <td>134</td>\n",
       "      <td>295</td>\n",
       "      <td>141</td>\n",
       "      <td>281</td>\n",
       "      <td>144</td>\n",
       "      <td>275</td>\n",
       "      <td>152</td>\n",
       "      <td>258</td>\n",
       "      <td>158</td>\n",
       "      <td>252</td>\n",
       "      <td>0.000113</td>\n",
       "    </tr>\n",
       "  </tbody>\n",
       "</table>\n",
       "</div>"
      ],
      "text/plain": [
       "   cycle_number  rising_edges_15  width_15  rising_edges_30  width_30  \\\n",
       "0             0              111       332              126       304   \n",
       "1             1              117       323              129       300   \n",
       "2             2              119       322              130       299   \n",
       "3             3              115       331              127       305   \n",
       "4             4              124       315              134       295   \n",
       "\n",
       "   rising_edges_45  width_45  rising_edges_50  width_50  rising_edges_65  \\\n",
       "0              134       289              137       283              148   \n",
       "1              137       284              140       279              148   \n",
       "2              137       285              140       280              149   \n",
       "3              136       287              137       284              148   \n",
       "4              141       281              144       275              152   \n",
       "\n",
       "   width_65  rising_edges_80  width_80  rising_slope  \n",
       "0       262              155       255      0.000108  \n",
       "1       261              156       253      0.000112  \n",
       "2       261              156       254      0.000112  \n",
       "3       263              155       256      0.000114  \n",
       "4       258              158       252      0.000113  "
      ]
     },
     "execution_count": 4,
     "metadata": {},
     "output_type": "execute_result"
    }
   ],
   "source": [
    "pv.head()"
   ]
  },
  {
   "cell_type": "code",
   "execution_count": 5,
   "id": "78235678",
   "metadata": {
    "ExecuteTime": {
     "end_time": "2021-10-12T19:25:25.745764Z",
     "start_time": "2021-10-12T19:25:25.724794Z"
    }
   },
   "outputs": [],
   "source": [
    "concat_df = pd.concat([pf.assign(dataset='pf'), pv.assign(dataset='pv')])"
   ]
  },
  {
   "cell_type": "code",
   "execution_count": 7,
   "id": "739c400c",
   "metadata": {
    "ExecuteTime": {
     "end_time": "2021-10-12T19:25:47.256505Z",
     "start_time": "2021-10-12T19:25:47.236559Z"
    }
   },
   "outputs": [
    {
     "data": {
      "text/html": [
       "<div>\n",
       "<style scoped>\n",
       "    .dataframe tbody tr th:only-of-type {\n",
       "        vertical-align: middle;\n",
       "    }\n",
       "\n",
       "    .dataframe tbody tr th {\n",
       "        vertical-align: top;\n",
       "    }\n",
       "\n",
       "    .dataframe thead th {\n",
       "        text-align: right;\n",
       "    }\n",
       "</style>\n",
       "<table border=\"1\" class=\"dataframe\">\n",
       "  <thead>\n",
       "    <tr style=\"text-align: right;\">\n",
       "      <th></th>\n",
       "      <th>cycle_number</th>\n",
       "      <th>rising_edges_15</th>\n",
       "      <th>width_15</th>\n",
       "      <th>rising_edges_30</th>\n",
       "      <th>width_30</th>\n",
       "      <th>rising_edges_45</th>\n",
       "      <th>width_45</th>\n",
       "      <th>rising_edges_50</th>\n",
       "      <th>width_50</th>\n",
       "      <th>rising_edges_65</th>\n",
       "      <th>width_65</th>\n",
       "      <th>rising_edges_80</th>\n",
       "      <th>width_80</th>\n",
       "      <th>rising_slope</th>\n",
       "      <th>dataset</th>\n",
       "    </tr>\n",
       "  </thead>\n",
       "  <tbody>\n",
       "    <tr>\n",
       "      <th>26</th>\n",
       "      <td>26</td>\n",
       "      <td>113</td>\n",
       "      <td>328</td>\n",
       "      <td>128</td>\n",
       "      <td>302</td>\n",
       "      <td>136</td>\n",
       "      <td>287</td>\n",
       "      <td>139</td>\n",
       "      <td>281</td>\n",
       "      <td>147</td>\n",
       "      <td>264</td>\n",
       "      <td>155</td>\n",
       "      <td>256</td>\n",
       "      <td>0.000105</td>\n",
       "      <td>pv</td>\n",
       "    </tr>\n",
       "    <tr>\n",
       "      <th>27</th>\n",
       "      <td>27</td>\n",
       "      <td>122</td>\n",
       "      <td>319</td>\n",
       "      <td>132</td>\n",
       "      <td>298</td>\n",
       "      <td>140</td>\n",
       "      <td>282</td>\n",
       "      <td>143</td>\n",
       "      <td>277</td>\n",
       "      <td>151</td>\n",
       "      <td>260</td>\n",
       "      <td>158</td>\n",
       "      <td>253</td>\n",
       "      <td>0.000112</td>\n",
       "      <td>pv</td>\n",
       "    </tr>\n",
       "    <tr>\n",
       "      <th>28</th>\n",
       "      <td>28</td>\n",
       "      <td>119</td>\n",
       "      <td>324</td>\n",
       "      <td>131</td>\n",
       "      <td>300</td>\n",
       "      <td>140</td>\n",
       "      <td>283</td>\n",
       "      <td>143</td>\n",
       "      <td>278</td>\n",
       "      <td>151</td>\n",
       "      <td>261</td>\n",
       "      <td>158</td>\n",
       "      <td>254</td>\n",
       "      <td>0.000112</td>\n",
       "      <td>pv</td>\n",
       "    </tr>\n",
       "    <tr>\n",
       "      <th>29</th>\n",
       "      <td>29</td>\n",
       "      <td>117</td>\n",
       "      <td>325</td>\n",
       "      <td>130</td>\n",
       "      <td>301</td>\n",
       "      <td>138</td>\n",
       "      <td>285</td>\n",
       "      <td>140</td>\n",
       "      <td>281</td>\n",
       "      <td>149</td>\n",
       "      <td>262</td>\n",
       "      <td>157</td>\n",
       "      <td>254</td>\n",
       "      <td>0.000111</td>\n",
       "      <td>pv</td>\n",
       "    </tr>\n",
       "    <tr>\n",
       "      <th>30</th>\n",
       "      <td>14</td>\n",
       "      <td>116</td>\n",
       "      <td>324</td>\n",
       "      <td>129</td>\n",
       "      <td>300</td>\n",
       "      <td>137</td>\n",
       "      <td>284</td>\n",
       "      <td>140</td>\n",
       "      <td>279</td>\n",
       "      <td>149</td>\n",
       "      <td>261</td>\n",
       "      <td>156</td>\n",
       "      <td>253</td>\n",
       "      <td>0.000111</td>\n",
       "      <td>pv</td>\n",
       "    </tr>\n",
       "  </tbody>\n",
       "</table>\n",
       "</div>"
      ],
      "text/plain": [
       "    cycle_number  rising_edges_15  width_15  rising_edges_30  width_30  \\\n",
       "26            26              113       328              128       302   \n",
       "27            27              122       319              132       298   \n",
       "28            28              119       324              131       300   \n",
       "29            29              117       325              130       301   \n",
       "30            14              116       324              129       300   \n",
       "\n",
       "    rising_edges_45  width_45  rising_edges_50  width_50  rising_edges_65  \\\n",
       "26              136       287              139       281              147   \n",
       "27              140       282              143       277              151   \n",
       "28              140       283              143       278              151   \n",
       "29              138       285              140       281              149   \n",
       "30              137       284              140       279              149   \n",
       "\n",
       "    width_65  rising_edges_80  width_80  rising_slope dataset  \n",
       "26       264              155       256      0.000105      pv  \n",
       "27       260              158       253      0.000112      pv  \n",
       "28       261              158       254      0.000112      pv  \n",
       "29       262              157       254      0.000111      pv  \n",
       "30       261              156       253      0.000111      pv  "
      ]
     },
     "execution_count": 7,
     "metadata": {},
     "output_type": "execute_result"
    }
   ],
   "source": [
    "concat_df.tail()"
   ]
  },
  {
   "cell_type": "code",
   "execution_count": 10,
   "id": "b3a40fbe",
   "metadata": {
    "ExecuteTime": {
     "end_time": "2021-10-12T19:28:43.316557Z",
     "start_time": "2021-10-12T19:28:43.122960Z"
    }
   },
   "outputs": [
    {
     "data": {
      "text/plain": [
       "<AxesSubplot:xlabel='rising_edges_15', ylabel='cycle_number'>"
      ]
     },
     "execution_count": 10,
     "metadata": {},
     "output_type": "execute_result"
    },
    {
     "data": {
      "image/png": "[encoded data removed]",
      "text/plain": [
       "<Figure size 432x288 with 1 Axes>"
      ]
     },
     "metadata": {},
     "output_type": "display_data"
    }
   ],
   "source": [
    "sns.set_style(\"dark\")\n",
    "sns.scatterplot(y='cycle_number', x='rising_edges_15', data=concat_df, hue='dataset')"
   ]
  },
  {
   "cell_type": "code",
   "execution_count": 11,
   "id": "a961e78d",
   "metadata": {
    "ExecuteTime": {
     "end_time": "2021-10-12T19:29:05.702281Z",
     "start_time": "2021-10-12T19:29:05.505055Z"
    }
   },
   "outputs": [
    {
     "data": {
      "text/plain": [
       "<AxesSubplot:xlabel='rising_edges_30', ylabel='cycle_number'>"
      ]
     },
     "execution_count": 11,
     "metadata": {},
     "output_type": "execute_result"
    },
    {
     "data": {
      "image/png": "[encoded data removed]",
      "text/plain": [
       "<Figure size 432x288 with 1 Axes>"
      ]
     },
     "metadata": {},
     "output_type": "display_data"
    }
   ],
   "source": [
    "sns.set_style(\"dark\")\n",
    "sns.scatterplot(y='cycle_number', x='rising_edges_30', data=concat_df, hue='dataset')"
   ]
  },
  {
   "cell_type": "code",
   "execution_count": 12,
   "id": "543138c4",
   "metadata": {
    "ExecuteTime": {
     "end_time": "2021-10-12T19:29:22.893946Z",
     "start_time": "2021-10-12T19:29:22.705278Z"
    }
   },
   "outputs": [
    {
     "data": {
      "text/plain": [
       "<AxesSubplot:xlabel='rising_edges_45', ylabel='cycle_number'>"
      ]
     },
     "execution_count": 12,
     "metadata": {},
     "output_type": "execute_result"
    },
    {
     "data": {
      "image/png": "[encoded data removed]",
      "text/plain": [
       "<Figure size 432x288 with 1 Axes>"
      ]
     },
     "metadata": {},
     "output_type": "display_data"
    }
   ],
   "source": [
    "sns.set_style(\"dark\")\n",
    "sns.scatterplot(y='cycle_number', x='rising_edges_45', data=concat_df, hue='dataset')"
   ]
  },
  {
   "cell_type": "code",
   "execution_count": 13,
   "id": "b3913a5f",
   "metadata": {
    "ExecuteTime": {
     "end_time": "2021-10-12T19:29:40.858287Z",
     "start_time": "2021-10-12T19:29:40.673547Z"
    }
   },
   "outputs": [
    {
     "data": {
      "text/plain": [
       "<AxesSubplot:xlabel='rising_edges_50', ylabel='cycle_number'>"
      ]
     },
     "execution_count": 13,
     "metadata": {},
     "output_type": "execute_result"
    },
    {
     "data": {
      "image/png": "[encoded data removed]",
      "text/plain": [
       "<Figure size 432x288 with 1 Axes>"
      ]
     },
     "metadata": {},
     "output_type": "display_data"
    }
   ],
   "source": [
    "sns.set_style(\"dark\")\n",
    "sns.scatterplot(y='cycle_number', x='rising_edges_50', data=concat_df, hue='dataset')"
   ]
  },
  {
   "cell_type": "code",
   "execution_count": 14,
   "id": "eea84756",
   "metadata": {
    "ExecuteTime": {
     "end_time": "2021-10-12T19:30:04.420360Z",
     "start_time": "2021-10-12T19:30:04.217473Z"
    }
   },
   "outputs": [
    {
     "data": {
      "text/plain": [
       "<AxesSubplot:xlabel='rising_slope', ylabel='cycle_number'>"
      ]
     },
     "execution_count": 14,
     "metadata": {},
     "output_type": "execute_result"
    },
    {
     "data": {
      "image/png": "[encoded data removed]",
      "text/plain": [
       "<Figure size 432x288 with 1 Axes>"
      ]
     },
     "metadata": {},
     "output_type": "display_data"
    }
   ],
   "source": [
    "sns.set_style(\"dark\")\n",
    "sns.scatterplot(y='cycle_number', x='rising_slope', data=concat_df, hue='dataset')"
   ]
  },
  {
   "cell_type": "code",
   "execution_count": null,
   "id": "818a03d4",
   "metadata": {},
   "outputs": [],
   "source": []
  }
 ],
 "metadata": {
  "kernelspec": {
   "display_name": "Python 3 (ipykernel)",
   "language": "python",
   "name": "python3"
  },
  "language_info": {
   "codemirror_mode": {
    "name": "ipython",
    "version": 3
   },
   "file_extension": ".py",
   "mimetype": "text/x-python",
   "name": "python",
   "nbconvert_exporter": "python",
   "pygments_lexer": "ipython3",
   "version": "3.9.6"
  },
  "toc": {
   "base_numbering": 1,
   "nav_menu": {},
   "number_sections": true,
   "sideBar": true,
   "skip_h1_title": false,
   "title_cell": "Table of Contents",
   "title_sidebar": "Contents",
   "toc_cell": false,
   "toc_position": {},
   "toc_section_display": true,
   "toc_window_display": false
  }
 },
 "nbformat": 4,
 "nbformat_minor": 5
}
